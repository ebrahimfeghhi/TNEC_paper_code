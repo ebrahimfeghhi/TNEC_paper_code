{
 "cells": [
  {
   "cell_type": "markdown",
   "metadata": {},
   "source": [
    "This script takes N (N=10 for paper) trained models, and \n",
    "evaluates N trained models on A, B, C HFO testing data. <br>\n",
    "Note that model_outputs_script was used for generating model outputs in paper (this notebook was used for checking purposes)."
   ]
  },
  {
   "cell_type": "code",
   "execution_count": 32,
   "metadata": {},
   "outputs": [],
   "source": [
    "import matplotlib\n",
    "import os \n",
    "os.environ[\"CUDA_VISIBLE_DEVICES\"]=\"0\"\n",
    "import tensorflow as tf\n",
    "config = tf.ConfigProto()\n",
    "config.gpu_options.allow_growth=True\n",
    "sess = tf.Session(config=config)\n",
    "import numpy as np\n",
    "from tensorflow.keras.models import Sequential\n",
    "from tensorflow.keras.layers import Dense\n",
    "from tensorflow.keras.layers import Flatten \n",
    "from tensorflow.keras.layers import MaxPooling1D, AveragePooling1D\n",
    "from tensorflow.keras.layers import LeakyReLU\n",
    "from tensorflow.keras.activations import relu\n",
    "from tensorflow.keras import Input\n",
    "from tensorflow.keras import Model\n",
    "from numpy import save\n",
    "from tensorflow.keras import regularizers\n",
    "from matplotlib import pyplot as plt\n",
    "from tensorflow.keras.layers import Conv1D\n",
    "from tensorflow.keras.layers import Dropout\n",
    "from tensorflow.keras.callbacks import EarlyStopping\n",
    "from tensorflow.keras.callbacks import ModelCheckpoint\n",
    "from tensorflow.keras.utils import to_categorical\n",
    "from sklearn.model_selection import KFold\n",
    "from sklearn.utils.class_weight import compute_class_weight\n",
    "import pandas as pd\n",
    "from sklearn.model_selection import train_test_split\n",
    "from scipy.signal import detrend\n",
    "from tensorflow.keras.wrappers.scikit_learn import KerasRegressor\n",
    "from sklearn.metrics import confusion_matrix\n",
    "import pandas as pd"
   ]
  },
  {
   "cell_type": "code",
   "execution_count": 33,
   "metadata": {
    "collapsed": true
   },
   "outputs": [],
   "source": [
    "def detrend_func(X):\n",
    "    \n",
    "    X_raw = X[:, :, 0]\n",
    "    X_raw_detrend = detrend(X_raw)\n",
    "    X[:, :, 0] = X_raw_detrend\n",
    "    return X"
   ]
  },
  {
   "cell_type": "code",
   "execution_count": 34,
   "metadata": {
    "collapsed": true
   },
   "outputs": [],
   "source": [
    "def load_pred(model_path, base_path, data_path):\n",
    "    \n",
    "    # load data \n",
    "    X = np.squeeze(np.load(base_path + data_path))\n",
    "    X = detrend_func(X)\n",
    "    \n",
    "    y_int = np.ones(X.shape[0])\n",
    "\n",
    "    \n",
    "    # display confusion matrix\n",
    "    y_pred_int = np.argmax(y_pred,axis=-1)\n",
    "    cmat = confusion_matrix(y_int, y_pred_int)\n",
    "    return cmat"
   ]
  },
  {
   "cell_type": "code",
   "execution_count": 48,
   "metadata": {},
   "outputs": [],
   "source": [
    "def test_models(model_path, data_path, detectors):\n",
    "    \n",
    "    # list where length is equal to number of hfo sets (3 for paper)\n",
    "    X_arr = []\n",
    "    acc_list = np.zeros((3,10))\n",
    "\n",
    "    # load data \n",
    "    for d in detectors:\n",
    "        \n",
    "        X = detrend_func(np.squeeze(np.load(data_path + 'X_' + d + '_test.npy')))\n",
    "        y = np.load(data_path + 'y_' + d + '_test.npy')\n",
    "        \n",
    "        hfos = np.argwhere(y==1)\n",
    "        X_arr.append(np.squeeze(X[hfos]))\n",
    "         \n",
    "    # loop through N = 10 models\n",
    "    for j, file in enumerate(np.sort(os.listdir(model_path))):\n",
    "        if file[0] == 'U':\n",
    "            continue\n",
    "        print(file)\n",
    "        model = tf.keras.models.load_model(model_path + file + \"/best_model.h5\")\n",
    "        \n",
    "        for i, hfo_set in enumerate(X_arr):\n",
    "            y_pred = model.predict(hfo_set)\n",
    "            y_pred_int = np.argmax(y_pred,axis=-1)\n",
    "            acc_list[i, j] = np.count_nonzero(y_pred_int) / y_pred_int.shape[0]\n",
    "            print(acc_list[i,j])\n",
    "            \n",
    "    return acc_list\n",
    "            \n",
    "    \n",
    "            "
   ]
  },
  {
   "cell_type": "code",
   "execution_count": 49,
   "metadata": {},
   "outputs": [
    {
     "name": "stdout",
     "output_type": "stream",
     "text": [
      "509_mm_1\n",
      "0.9259135098893732\n",
      "0.8528842431281456\n",
      "0.659784283513097\n",
      "509_mm_10\n",
      "0.9386523633925579\n",
      "0.867595818815331\n",
      "0.6776579352850539\n",
      "509_mm_2\n",
      "0.9091518605430774\n",
      "0.8466898954703833\n",
      "0.6567026194144838\n",
      "509_mm_3\n",
      "0.9265839758632249\n",
      "0.8478513356562137\n",
      "0.6560862865947612\n",
      "509_mm_4\n",
      "0.9245725779416695\n",
      "0.8552071234998064\n",
      "0.6650231124807396\n",
      "509_mm_5\n",
      "0.93027153871941\n",
      "0.8521099496709252\n",
      "0.6607087827426811\n",
      "509_mm_6\n",
      "0.9228964130070398\n",
      "0.8517228029423152\n",
      "0.6631741140215717\n",
      "509_mm_7\n",
      "0.9128394233992625\n",
      "0.8443670150987224\n",
      "0.6551617873651772\n",
      "509_mm_8\n",
      "0.9024472008045592\n",
      "0.8385598141695703\n",
      "0.6462249614791987\n",
      "509_mm_9\n",
      "0.9037881327522628\n",
      "0.8385598141695703\n",
      "0.6434514637904468\n"
     ]
    }
   ],
   "source": [
    "data_path = '/home3/ebrahim/ripple_code/yasa_labels/updated_data/509/'\n",
    "model_path = '/home3/ebrahim/results/updated_results/a/509/'\n",
    "detectors = ['a', 'b', 'c']\n",
    "acc_list = test_models(model_path, data_path, detectors)"
   ]
  },
  {
   "cell_type": "code",
   "execution_count": 55,
   "metadata": {},
   "outputs": [],
   "source": [
    "np.save('/home3/ebrahim/results/updated_results/saved_acc/acc_list_509_a', acc_list)"
   ]
  },
  {
   "cell_type": "code",
   "execution_count": null,
   "metadata": {
    "collapsed": true
   },
   "outputs": [],
   "source": []
  }
 ],
 "metadata": {
  "kernelspec": {
   "display_name": "kerasEB",
   "language": "python",
   "name": "keraseb"
  },
  "language_info": {
   "codemirror_mode": {
    "name": "ipython",
    "version": 3
   },
   "file_extension": ".py",
   "mimetype": "text/x-python",
   "name": "python",
   "nbconvert_exporter": "python",
   "pygments_lexer": "ipython3",
   "version": "3.6.9"
  }
 },
 "nbformat": 4,
 "nbformat_minor": 2
}
