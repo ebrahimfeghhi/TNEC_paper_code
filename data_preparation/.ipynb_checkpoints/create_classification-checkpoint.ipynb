{
 "cells": [
  {
   "cell_type": "code",
   "execution_count": 1,
   "metadata": {
    "collapsed": true
   },
   "outputs": [],
   "source": [
    "# This notebook prepares the data for neural network training"
   ]
  },
  {
   "cell_type": "code",
   "execution_count": 1,
   "metadata": {
    "collapsed": true,
    "tags": []
   },
   "outputs": [],
   "source": [
    "import numpy as np\n",
    "from matplotlib import pyplot as plt\n",
    "import copy\n",
    "from sklearn.model_selection import train_test_split\n",
    "import scipy.stats as stats\n",
    "from sklearn.metrics import confusion_matrix\n",
    "from sklearn.metrics import cohen_kappa_score\n",
    "from numpy import corrcoef\n",
    "from numpy.random import default_rng\n",
    "rng = default_rng(10)\n",
    "import seaborn as sns\n",
    "import copy"
   ]
  },
  {
   "cell_type": "code",
   "execution_count": 2,
   "metadata": {
    "collapsed": true
   },
   "outputs": [],
   "source": [
    "def load_data(base_path, datapath, labelpath, pnames, thresh, pre_process_bool, pre_processor):\n",
    "    X_arr = []\n",
    "    y_arr = []\n",
    "    patient_indices = []\n",
    "    for k, p in enumerate(pnames):\n",
    "        \n",
    "        X = np.load(base_path + p + '/' + datapath[k])\n",
    "        y = np.load(base_path + p + '/' + labelpath[k])\n",
    "        \n",
    "        if pre_process_bool:\n",
    "            X, y = pre_processor.transform(X, y)\n",
    "            \n",
    "        print(X.shape)\n",
    "        print(y.shape)\n",
    "        \n",
    "        X_arr.append(X)\n",
    "        y_arr.append(y)\n",
    "        patient_indices.append(len(y_arr[k]))\n",
    "\n",
    "    X = np.vstack((X_arr))\n",
    "    y = np.vstack((y_arr))\n",
    "    \n",
    "    return X, y, patient_indices"
   ]
  },
  {
   "cell_type": "code",
   "execution_count": 3,
   "metadata": {
    "collapsed": true
   },
   "outputs": [],
   "source": [
    "class preprocess_iEEG():\n",
    "    \n",
    "    # Removes outliers based on RMS value \n",
    "    \n",
    "    def __init__(self, thresh):\n",
    "        self.thresh = thresh\n",
    "    \n",
    "    def fit(self, data, labels):\n",
    "        \n",
    "        self.rms_thresh_quantile = np.quantile(labels[:,2], self.thresh)\n",
    "        self.std_vals = np.std(data,axis=(0,1))\n",
    "\n",
    "    def transform(self, data, labels):\n",
    "        \n",
    "        outliers = np.argwhere(labels[:,2]>=self.rms_thresh_quantile)\n",
    "        data_red = np.delete(data, outliers, axis=0)\n",
    "        labels_red = np.delete(labels, outliers, axis=0)\n",
    "        \n",
    "        return data_red, labels_red\n",
    "        "
   ]
  },
  {
   "cell_type": "code",
   "execution_count": 4,
   "metadata": {
    "collapsed": true,
    "tags": []
   },
   "outputs": [],
   "source": [
    "def remove_outlier_normalize(data, labels, thresh, normalize_bool):\n",
    "            \n",
    "    \n",
    "    plt.hist(labels[:, 2])\n",
    "    plt.show()\n",
    "    print(\"Before outlier removal: \", data.shape[0])\n",
    "    \n",
    "    rms_thresh_quantile = np.quantile(labels[:,2], thresh)\n",
    "    outliers = np.argwhere(labels[:,2] >= rms_thresh_quantile)\n",
    "    data = np.delete(data, outliers, axis=0)\n",
    "    labels = np.delete(labels, outliers, axis=0)\n",
    "    \n",
    "    if normalize_bool:\n",
    "        data /= np.std(data,axis=(0,1))\n",
    "    \n",
    "    plt.hist(labels[:, 2])\n",
    "    plt.show()\n",
    "    print(\"After outlier removal: \", data.shape[0])\n",
    "    \n",
    "    return data, labels"
   ]
  },
  {
   "cell_type": "code",
   "execution_count": 5,
   "metadata": {
    "collapsed": true,
    "tags": []
   },
   "outputs": [],
   "source": [
    "# .84 and .57 for 487 inclusive\n",
    "# .9 and .65 for all other within patient experiments\n",
    "def select_arr_quantile(y_quantile, HFO_thresh=.85, candidate_thresh=.6, candidate_thresh_upper=None, \n",
    "                        HFO=False, weights=None, HFO_ind=None):\n",
    "    \n",
    "    \n",
    "    y_avg = np.average(y_quantile,axis=-1, weights=weights)\n",
    "    \n",
    "    if HFO:\n",
    "    \n",
    "        HFO_indices = np.argwhere(y_avg > HFO_thresh)\n",
    "        print(\"HFOs: \", HFO_indices.shape[0])   \n",
    "        return HFO_indices\n",
    "            \n",
    "    else:\n",
    "        \n",
    "        candidate_ind = np.argwhere(np.average(y_quantile,axis=-1)>candidate_thresh)\n",
    "        candidate_ind_clean = np.setdiff1d(candidate_ind, np.intersect1d(candidate_ind, HFO_ind))\n",
    "        \n",
    "        if int(candidate_ind_clean.shape[0]) + int(HFO_ind.shape[0]) != int(candidate_ind.shape[0]):\n",
    "            print(\"HFO + candidate class: \", int(candidate_ind_clean.shape[0]) + int(HFO_ind.shape[0]))\n",
    "            print(\"All candidates: \", int(candidate_ind.shape[0]))\n",
    "            print(\"*************** Error **************\")\n",
    "            \n",
    "        if candidate_ind_clean.shape[0] > HFO_ind.shape[0]*1:\n",
    "            candidate_ind_clean_red = np.random.choice(candidate_ind_clean, HFO_ind.shape[0]*1, replace=False)\n",
    "            print(\"HFO Space shape: \", candidate_ind_clean_red.shape[0])\n",
    "            return candidate_ind_clean_red\n",
    "        \n",
    "        print(\"Distractor shape: \", candidate_ind_clean.shape)\n",
    "        return candidate_ind_clean"
   ]
  },
  {
   "cell_type": "code",
   "execution_count": 6,
   "metadata": {
    "collapsed": true
   },
   "outputs": [],
   "source": [
    "def compute_epoch_stats(X_q1, X_q2, X_q3, X_q4, pname, save_path, print_mode):\n",
    "    if print_mode:\n",
    "        print(\"Epoch 1: \", np.std(X_q1,axis=(0,1)))\n",
    "        print(\"Epoch 2: \", np.std(X_q2,axis=(0,1)))\n",
    "        print(\"Epoch 3: \", np.std(X_q3,axis=(0,1)))\n",
    "        print(\"Epoch 4: \", np.std(X_q4,axis=(0,1)))\n",
    "              \n",
    "    else:\n",
    "        np.save(save_path + 'X_q1_std_' + pname, np.std(X_q1,axis=(0,1)))\n",
    "        np.save(save_path + 'X_q2_std_' + pname, np.std(X_q2,axis=(0,1)))    \n",
    "        np.save(save_path + 'X_q3_std_' + pname, np.std(X_q3,axis=(0,1)))    \n",
    "        np.save(save_path + 'X_q4_std_' + pname, np.std(X_q4,axis=(0,1)))    "
   ]
  },
  {
   "cell_type": "code",
   "execution_count": 7,
   "metadata": {
    "collapsed": true,
    "tags": []
   },
   "outputs": [],
   "source": [
    "def count_num_hfos_nonoverlap(ind):\n",
    "    \n",
    "    for i in range(ind.shape[0]):\n",
    "        j = 1\n",
    "        delete_overlap = True\n",
    "        try: \n",
    "            while delete_overlap:\n",
    "                # hfos that are within a 100ms regionm (w/n 3 windows) are removed \n",
    "                if ind[i] + j in ind:\n",
    "                    ind = np.setdiff1d(ind, [ind[i] + j])\n",
    "                    j += 1\n",
    "                elif j < 4:\n",
    "                    j += 1\n",
    "                else:\n",
    "                    delete_overlap = False\n",
    "        except: \n",
    "            pass\n",
    "\n",
    "    print(\"Unique HFOs: \", ind.shape[0])\n"
   ]
  },
  {
   "cell_type": "code",
   "execution_count": 8,
   "metadata": {
    "collapsed": true
   },
   "outputs": [],
   "source": [
    "def separate_patients(X, y, patient_indices):\n",
    "    \n",
    "    X_sep = []\n",
    "    y_sep = []\n",
    "    last_patient_ind = 0\n",
    "    for k, i in enumerate(patient_indices):\n",
    "        if k == 0: \n",
    "            X_sep.append(X[:i])\n",
    "            y_sep.append(y[:i])\n",
    "            last_patient_ind = i\n",
    "        else:\n",
    "            next_patient_ind = last_patient_ind + i \n",
    "            X_sep.append(X[last_patient_ind:next_patient_ind])\n",
    "            y_sep.append(y[last_patient_ind:next_patient_ind])\n",
    "            last_patient_ind = next_patient_ind\n",
    "         \n",
    "    return X_sep, y_sep"
   ]
  },
  {
   "cell_type": "code",
   "execution_count": 9,
   "metadata": {
    "collapsed": true,
    "tags": []
   },
   "outputs": [],
   "source": [
    "def unique_overlap(hfo_1, hfo_2, X, y_quantile, save_unique, save_overlap, save_overlap_bool):\n",
    "    \n",
    "    unique = np.asarray(np.ravel([i for i in hfo_1 if i not in hfo_2]), dtype=np.int)\n",
    "    overlap = np.asarray(np.ravel([i for i in hfo_1 if i in hfo_2]), dtype=np.int)\n",
    "    \n",
    "    print(unique.shape)\n",
    "    print(overlap.shape)\n",
    "    \n",
    "    if save_overlap_bool:\n",
    "        np.save(save_overlap, X[overlap])\n",
    "        \n",
    "    np.save(save_unique, X[unique])\n",
    "    np.save(save_unique + '_percentile_labels', y_quantile[unique])\n",
    "    try:\n",
    "        np.save(save_overlap + '_percentile_labels', y_quantile[overlap])\n",
    "    except:\n",
    "        pass\n",
    "    \n",
    "    "
   ]
  },
  {
   "cell_type": "code",
   "execution_count": 10,
   "metadata": {
    "collapsed": true,
    "tags": []
   },
   "outputs": [],
   "source": [
    "def overlap_compute(hfo_a, hfo_b, hfo_c, save_path):\n",
    "    \n",
    "    overlap_a_b = np.intersect1d(hfo_a, hfo_b)\n",
    "    overlap_a_c = np.intersect1d(hfo_a, hfo_c)\n",
    "    overlap_b_c = np.intersect1d(hfo_b, hfo_c)\n",
    "    \n",
    "    consistency_arr = np.zeros(6)\n",
    "\n",
    "    consistency_arr[0] = overlap_a_b.shape[0]/(len(hfo_a))\n",
    "    consistency_arr[1] = overlap_a_b.shape[0]/(len(hfo_b))\n",
    "    \n",
    "    consistency_arr[2] = overlap_a_c.shape[0]/(len(hfo_a))\n",
    "    consistency_arr[3] = overlap_a_c.shape[0]/(len(hfo_c))\n",
    "    \n",
    "    consistency_arr[4] = overlap_b_c.shape[0]/(len(hfo_b))\n",
    "    consistency_arr[5] = overlap_b_c.shape[0]/(len(hfo_c))\n",
    "    \n",
    "    print(consistency_arr)\n",
    "    \n",
    "    if len(save_path)!=0:\n",
    "        np.save(save_path, consistency_arr)"
   ]
  },
  {
   "cell_type": "code",
   "execution_count": 11,
   "metadata": {
    "collapsed": true,
    "tags": []
   },
   "outputs": [],
   "source": [
    "def construct_data(X, y, path, d_name, l_name, distractor_indices=None, HFO_indices=None, save_quantile=False):\n",
    "        \n",
    "    # Construct dataset for classification\n",
    "    distractors = X[np.squeeze(distractor_indices)]\n",
    "    HFOs = X[np.squeeze(HFO_indices)]\n",
    "    X_classification = np.vstack((distractors, HFOs))\n",
    "    y_classification = np.concatenate((0*np.ones(distractor_indices.shape[0]), 1*np.ones(HFO_indices.shape[0])))\n",
    "    \n",
    "    if save_quantile:\n",
    "        HFO_quantile = y[np.squeeze(HFO_indices)]\n",
    "        distractor_quantile = y[np.squeeze(distractor_indices)]\n",
    "        X_quantile = np.vstack((distractor_quantile, HFO_quantile))\n",
    "        print(\"X quantile shape: \", X_quantile.shape)\n",
    "        np.save(path + d_name + '_quantile', np.squeeze(X_quantile))\n",
    "\n",
    "    print(\"X classification shape: \", X_classification.shape)\n",
    "    print(\"y classification shape: \", y_classification.shape)\n",
    "\n",
    "    np.save(path + d_name, np.squeeze(X_classification))\n",
    "    np.save(path + l_name, y_classification)"
   ]
  },
  {
   "cell_type": "code",
   "execution_count": 12,
   "metadata": {
    "collapsed": true
   },
   "outputs": [],
   "source": [
    "base_path = '/home3/ebrahim/ripple_code/yasa_labels/deep_learning/train/yara_single_labels/'\n",
    "base =  '/home3/ebrahim/ripple_code/yasa_labels/weighted_labels/'"
   ]
  },
  {
   "cell_type": "code",
   "execution_count": 18,
   "metadata": {
    "collapsed": true
   },
   "outputs": [],
   "source": [
    "#------------------------- Create global experiment data ----------------------------------\n",
    "\n",
    "\n",
    "\n",
    "\n",
    "\n",
    "\n",
    "\n",
    "#------------------------------------------------------------------------------------------"
   ]
  },
  {
   "cell_type": "code",
   "execution_count": 19,
   "metadata": {
    "collapsed": true,
    "tags": []
   },
   "outputs": [],
   "source": [
    "pname = ['509', '493', '489', '487']\n",
    "global_bool = True\n",
    "save_path = base + 'global/'\n",
    "thresh=.99 # RMS threshold for outlier removal"
   ]
  },
  {
   "cell_type": "code",
   "execution_count": 20,
   "metadata": {},
   "outputs": [
    {
     "name": "stdout",
     "output_type": "stream",
     "text": [
      "Shape before  preprocessing\n",
      "(150000, 100, 2)\n",
      "(150000, 3)\n",
      "(150000, 100, 2)\n",
      "(150000, 3)\n",
      "(150000, 100, 2)\n",
      "(150000, 3)\n",
      "(150000, 100, 2)\n",
      "(150000, 3)\n",
      "\n",
      "\n",
      "Shape after preprocessing\n",
      "(149831, 100, 2)\n",
      "(149831, 3)\n",
      "(149801, 100, 2)\n",
      "(149801, 3)\n",
      "(149663, 100, 2)\n",
      "(149663, 3)\n",
      "(144705, 100, 2)\n",
      "(144705, 3)\n"
     ]
    }
   ],
   "source": [
    "datapath = ['RL_509_data_normalized_red.npy', 'RL_493_data_normalized_red.npy', 'RL_489_data_normalized_red.npy', 'RL_487_data_normalized_red.npy']\n",
    "labelpath = ['RL_509_labels_normalized_red.npy', 'RL_493_labels_normalized_red.npy','RL_489_labels_normalized_red.npy', 'RL_487_labels_normalized_red.npy']\n",
    "\n",
    "print(\"Shape before  preprocessing\")\n",
    "X, y, patient_indices = load_data(base, datapath, labelpath, pname, thresh, False, None)\n",
    "\n",
    "# fit preprocessor to all data\n",
    "pre_processer = preprocess_iEEG(thresh)\n",
    "pre_processer.fit(X,y)\n",
    "\n",
    "print(\"\\n\")\n",
    "print(\"Shape after preprocessing\")\n",
    "# reload data, with preprocessing this time\n",
    "X, y, patient_indices = load_data(base, datapath, labelpath, pname, thresh, True, pre_processer)"
   ]
  },
  {
   "cell_type": "code",
   "execution_count": 21,
   "metadata": {},
   "outputs": [
    {
     "name": "stdout",
     "output_type": "stream",
     "text": [
      "594000\n",
      "594000\n"
     ]
    }
   ],
   "source": [
    "# These two values should be equal\n",
    "print(np.sum(patient_indices))\n",
    "print(y.shape[0])"
   ]
  },
  {
   "cell_type": "code",
   "execution_count": 22,
   "metadata": {
    "collapsed": true,
    "tags": []
   },
   "outputs": [],
   "source": [
    "y_rel_quantile = stats.rankdata(y[:,0], \"average\")/len(y[:,0])\n",
    "y_corr_quantile = stats.rankdata(y[:,1], \"average\")/len(y[:,1])\n",
    "y_rms_quantile = stats.rankdata(y[:,2], \"average\")/len(y[:,2])\n",
    "\n",
    "y_quantile = np.vstack((y_rel_quantile, y_corr_quantile, y_rms_quantile)).T"
   ]
  },
  {
   "cell_type": "code",
   "execution_count": 23,
   "metadata": {},
   "outputs": [
    {
     "name": "stdout",
     "output_type": "stream",
     "text": [
      "(149831, 100, 2)\n",
      "(149801, 100, 2)\n",
      "(149663, 100, 2)\n",
      "(144705, 100, 2)\n"
     ]
    }
   ],
   "source": [
    "# separate patient data, and reduce amount of data from patients 1-3 before detecting hfos \n",
    "\n",
    "X_sep, y_sep = separate_patients(X, y_quantile, patient_indices)\n",
    "\n",
    "X_509 = X_sep[0]\n",
    "print(X_509.shape)\n",
    "X_493 = X_sep[1]\n",
    "print(X_493.shape)\n",
    "X_489 = X_sep[2]\n",
    "print(X_489.shape)\n",
    "X_487 = X_sep[3]\n",
    "print(X_487.shape)\n",
    "\n",
    "y_509 = y_sep[0]\n",
    "y_493 = y_sep[1]\n",
    "y_489 = y_sep[2]\n",
    "y_487 = y_sep[3]"
   ]
  },
  {
   "cell_type": "code",
   "execution_count": 24,
   "metadata": {},
   "outputs": [
    {
     "data": {
      "image/png": "[encoded data removed]",
      "text/plain": [
       "<Figure size 432x288 with 1 Axes>"
      ]
     },
     "metadata": {
      "needs_background": "light"
     },
     "output_type": "display_data"
    },
    {
     "data": {
      "image/png": "[encoded data removed]",
      "text/plain": [
       "<Figure size 432x288 with 1 Axes>"
      ]
     },
     "metadata": {
      "needs_background": "light"
     },
     "output_type": "display_data"
    },
    {
     "data": {
      "image/png": "[encoded data removed]",
      "text/plain": [
       "<Figure size 432x288 with 1 Axes>"
      ]
     },
     "metadata": {
      "needs_background": "light"
     },
     "output_type": "display_data"
    },
    {
     "data": {
      "image/png": "[encoded data removed]",
      "text/plain": [
       "<Figure size 432x288 with 1 Axes>"
      ]
     },
     "metadata": {
      "needs_background": "light"
     },
     "output_type": "display_data"
    }
   ],
   "source": [
    "plt.hist(np.mean(y_509,axis=-1))\n",
    "plt.show()\n",
    "plt.hist(np.mean(y_493,axis=-1))\n",
    "plt.show()\n",
    "plt.hist(np.mean(y_489,axis=-1))\n",
    "plt.show()\n",
    "plt.hist(np.mean(y_487,axis=-1))\n",
    "plt.show()"
   ]
  },
  {
   "cell_type": "code",
   "execution_count": 25,
   "metadata": {
    "collapsed": true
   },
   "outputs": [],
   "source": [
    "A_weights = [1,3,1]\n",
    "B_weights = [3,1,1]\n",
    "C_weights = [6,1,1]"
   ]
  },
  {
   "cell_type": "code",
   "execution_count": 26,
   "metadata": {
    "collapsed": true
   },
   "outputs": [],
   "source": [
    "HFO_thresh=.9\n",
    "candidate_thresh=.65"
   ]
  },
  {
   "cell_type": "code",
   "execution_count": 27,
   "metadata": {},
   "outputs": [
    {
     "name": "stdout",
     "output_type": "stream",
     "text": [
      "HFOs:  4167\n",
      "HFO Space shape:  4167\n",
      "Unique HFOs:  3756\n",
      "HFOs:  13874\n",
      "HFO Space shape:  13874\n",
      "Unique HFOs:  10005\n",
      "HFOs:  12909\n",
      "HFO Space shape:  12909\n",
      "Unique HFOs:  9517\n",
      "HFOs:  363\n",
      "HFO Space shape:  363\n",
      "Unique HFOs:  361\n"
     ]
    }
   ],
   "source": [
    "HFO_indices_509_A = select_arr_quantile(y_509, HFO_thresh=HFO_thresh, candidate_thresh=candidate_thresh, HFO=True, weights=A_weights)\n",
    "HFO_distractors_509_A = select_arr_quantile(y_509, weights=A_weights, HFO_thresh=HFO_thresh, candidate_thresh=candidate_thresh, HFO_ind=HFO_indices_509_A)\n",
    "count_num_hfos_nonoverlap(np.asarray(HFO_indices_509_A))\n",
    "\n",
    "HFO_indices_493_A = select_arr_quantile(y_493, HFO_thresh=HFO_thresh, candidate_thresh=candidate_thresh, HFO=True, weights=A_weights)\n",
    "HFO_distractors_493_A = select_arr_quantile(y_493, weights=A_weights, HFO_thresh=HFO_thresh, candidate_thresh=candidate_thresh, HFO_ind=HFO_indices_493_A)\n",
    "count_num_hfos_nonoverlap(np.asarray(HFO_indices_493_A))\n",
    "\n",
    "HFO_indices_489_A = select_arr_quantile(y_489, HFO_thresh=HFO_thresh, candidate_thresh=candidate_thresh, HFO=True, weights=A_weights)\n",
    "HFO_distractors_489_A = select_arr_quantile(y_489, weights=A_weights, HFO_thresh=HFO_thresh, candidate_thresh=candidate_thresh, HFO_ind=HFO_indices_489_A)\n",
    "count_num_hfos_nonoverlap(np.asarray(HFO_indices_489_A))\n",
    "\n",
    "HFO_indices_487_A = select_arr_quantile(y_487, HFO_thresh=HFO_thresh, candidate_thresh=candidate_thresh, HFO=True, weights=A_weights)\n",
    "HFO_distractors_487_A = select_arr_quantile(y_487, weights=A_weights, HFO_thresh=HFO_thresh, candidate_thresh=candidate_thresh, HFO_ind=HFO_indices_487_A)\n",
    "count_num_hfos_nonoverlap(np.asarray(HFO_indices_487_A))"
   ]
  },
  {
   "cell_type": "code",
   "execution_count": 28,
   "metadata": {},
   "outputs": [
    {
     "name": "stdout",
     "output_type": "stream",
     "text": [
      "X classification shape:  (8334, 100, 2)\n",
      "y classification shape:  (8334,)\n",
      "X classification shape:  (27748, 100, 2)\n",
      "y classification shape:  (27748,)\n",
      "X classification shape:  (25818, 100, 2)\n",
      "y classification shape:  (25818,)\n",
      "X classification shape:  (726, 100, 2)\n",
      "y classification shape:  (726,)\n"
     ]
    }
   ],
   "source": [
    "construct_data(X_509, y_509, distractor_indices=HFO_distractors_509_A, HFO_indices=HFO_indices_509_A, path=save_path, d_name='X_509_A', l_name='y_509_A')\n",
    "construct_data(X_493, y_493, distractor_indices=HFO_distractors_493_A, HFO_indices=HFO_indices_493_A, path=save_path, d_name='X_493_A', l_name='y_493_A')\n",
    "construct_data(X_489, y_489, distractor_indices=HFO_distractors_489_A, HFO_indices=HFO_indices_489_A, path=save_path, d_name='X_489_A', l_name='y_489_A')\n",
    "construct_data(X_487, y_487, distractor_indices=HFO_distractors_487_A, HFO_indices=HFO_indices_487_A, path=save_path, d_name='X_487_A', l_name='y_487_A')"
   ]
  },
  {
   "cell_type": "code",
   "execution_count": 81,
   "metadata": {},
   "outputs": [
    {
     "name": "stdout",
     "output_type": "stream",
     "text": [
      "HFOs:  4157\n",
      "HFO Space shape:  4157\n",
      "Unique HFOs:  3759\n",
      "HFOs:  13263\n",
      "HFO Space shape:  13263\n",
      "Unique HFOs:  9795\n",
      "HFOs:  12973\n",
      "HFO Space shape:  12973\n",
      "Unique HFOs:  9543\n",
      "HFOs:  366\n",
      "HFO Space shape:  366\n",
      "Unique HFOs:  362\n"
     ]
    }
   ],
   "source": [
    "HFO_indices_509_B = select_arr_quantile(y_509, HFO_thresh=HFO_thresh, candidate_thresh=candidate_thresh, HFO=True, weights=B_weights)\n",
    "HFO_distractors_509_B = select_arr_quantile(y_509, weights=B_weights, HFO_thresh=HFO_thresh, candidate_thresh=candidate_thresh, HFO_ind=HFO_indices_509_B)\n",
    "count_num_hfos_nonoverlap(np.asarray(HFO_indices_509_B))\n",
    "\n",
    "HFO_indices_493_B = select_arr_quantile(y_493, HFO_thresh=HFO_thresh, candidate_thresh=candidate_thresh, HFO=True, weights=B_weights)\n",
    "HFO_distractors_493_B = select_arr_quantile(y_493, weights=B_weights, HFO_thresh=HFO_thresh, candidate_thresh=candidate_thresh, HFO_ind=HFO_indices_493_B)\n",
    "count_num_hfos_nonoverlap(np.asarray(HFO_indices_493_B))\n",
    "\n",
    "HFO_indices_489_B = select_arr_quantile(y_489, HFO_thresh=HFO_thresh, candidate_thresh=candidate_thresh, HFO=True, weights=B_weights)\n",
    "HFO_distractors_489_B = select_arr_quantile(y_489, weights=B_weights, HFO_thresh=HFO_thresh, candidate_thresh=candidate_thresh, HFO_ind=HFO_indices_489_B)\n",
    "count_num_hfos_nonoverlap(np.asarray(HFO_indices_489_B))\n",
    "\n",
    "HFO_indices_487_B = select_arr_quantile(y_487, HFO_thresh=HFO_thresh, candidate_thresh=candidate_thresh, HFO=True, weights=B_weights)\n",
    "HFO_distractors_487_B = select_arr_quantile(y_487, weights=B_weights, HFO_thresh=HFO_thresh, candidate_thresh=candidate_thresh, HFO_ind=HFO_indices_487_B)\n",
    "count_num_hfos_nonoverlap(np.asarray(HFO_indices_487_B))"
   ]
  },
  {
   "cell_type": "code",
   "execution_count": 90,
   "metadata": {},
   "outputs": [
    {
     "name": "stdout",
     "output_type": "stream",
     "text": [
      "X classification shape:  (8314, 100, 2)\n",
      "y classification shape:  (8314,)\n",
      "X classification shape:  (26526, 100, 2)\n",
      "y classification shape:  (26526,)\n",
      "X classification shape:  (25946, 100, 2)\n",
      "y classification shape:  (25946,)\n",
      "X classification shape:  (732, 100, 2)\n",
      "y classification shape:  (732,)\n"
     ]
    }
   ],
   "source": [
    "construct_data(X_509, y_509, distractor_indices=HFO_distractors_509_B, HFO_indices=HFO_indices_509_B, path=save_path, d_name='X_509_B', l_name='y_509_B')\n",
    "construct_data(X_493, y_493, distractor_indices=HFO_distractors_493_B, HFO_indices=HFO_indices_493_B, path=save_path, d_name='X_493_B', l_name='y_493_B')\n",
    "construct_data(X_489, y_489, distractor_indices=HFO_distractors_489_B, HFO_indices=HFO_indices_489_B, path=save_path, d_name='X_489_B', l_name='y_489_B')\n",
    "construct_data(X_487, y_487, distractor_indices=HFO_distractors_487_B, HFO_indices=HFO_indices_487_B, path=save_path, d_name='X_487_B', l_name='y_487_B')"
   ]
  },
  {
   "cell_type": "code",
   "execution_count": 82,
   "metadata": {},
   "outputs": [
    {
     "name": "stdout",
     "output_type": "stream",
     "text": [
      "HFOs:  6395\n",
      "HFO Space shape:  6395\n",
      "Unique HFOs:  5429\n",
      "HFOs:  16375\n",
      "HFO Space shape:  16375\n",
      "Unique HFOs:  11361\n",
      "HFOs:  14803\n",
      "HFO Space shape:  14803\n",
      "Unique HFOs:  10521\n",
      "HFOs:  459\n",
      "HFO Space shape:  459\n",
      "Unique HFOs:  454\n"
     ]
    }
   ],
   "source": [
    "HFO_indices_509_C = select_arr_quantile(y_509, HFO_thresh=HFO_thresh, candidate_thresh=candidate_thresh, HFO=True, weights=C_weights)\n",
    "HFO_distractors_509_C = select_arr_quantile(y_509, weights=C_weights, HFO_thresh=HFO_thresh, candidate_thresh=candidate_thresh, HFO_ind=HFO_indices_509_C)\n",
    "count_num_hfos_nonoverlap(np.asarray(HFO_indices_509_C))\n",
    "\n",
    "HFO_indices_493_C = select_arr_quantile(y_493, HFO_thresh=HFO_thresh, candidate_thresh=candidate_thresh, HFO=True, weights=C_weights)\n",
    "HFO_distractors_493_C = select_arr_quantile(y_493, weights=C_weights, HFO_thresh=HFO_thresh, candidate_thresh=candidate_thresh, HFO_ind=HFO_indices_493_C)\n",
    "count_num_hfos_nonoverlap(np.asarray(HFO_indices_493_C))\n",
    "\n",
    "HFO_indices_489_C = select_arr_quantile(y_489, HFO_thresh=HFO_thresh, candidate_thresh=candidate_thresh, HFO=True, weights=C_weights)\n",
    "HFO_distractors_489_C = select_arr_quantile(y_489, weights=C_weights, HFO_thresh=HFO_thresh, candidate_thresh=candidate_thresh, HFO_ind=HFO_indices_489_C)\n",
    "count_num_hfos_nonoverlap(np.asarray(HFO_indices_489_C))\n",
    "\n",
    "HFO_indices_487_C = select_arr_quantile(y_487, HFO_thresh=HFO_thresh, candidate_thresh=candidate_thresh, HFO=True, weights=C_weights)\n",
    "HFO_distractors_487_C = select_arr_quantile(y_487, weights=C_weights, HFO_thresh=HFO_thresh, candidate_thresh=candidate_thresh, HFO_ind=HFO_indices_487_C)\n",
    "count_num_hfos_nonoverlap(np.asarray(HFO_indices_487_C))"
   ]
  },
  {
   "cell_type": "code",
   "execution_count": 92,
   "metadata": {},
   "outputs": [
    {
     "name": "stdout",
     "output_type": "stream",
     "text": [
      "X classification shape:  (12790, 100, 2)\n",
      "y classification shape:  (12790,)\n",
      "X classification shape:  (32750, 100, 2)\n",
      "y classification shape:  (32750,)\n",
      "X classification shape:  (29606, 100, 2)\n",
      "y classification shape:  (29606,)\n",
      "X classification shape:  (918, 100, 2)\n",
      "y classification shape:  (918,)\n"
     ]
    }
   ],
   "source": [
    "construct_data(X_509, y_509, distractor_indices=HFO_distractors_509_C, HFO_indices=HFO_indices_509_C, path=save_path, d_name='X_509_C', l_name='y_509_C')\n",
    "construct_data(X_493, y_493, distractor_indices=HFO_distractors_493_C, HFO_indices=HFO_indices_493_C, path=save_path, d_name='X_493_C', l_name='y_493_C')\n",
    "construct_data(X_489, y_489, distractor_indices=HFO_distractors_489_C, HFO_indices=HFO_indices_489_C, path=save_path, d_name='X_489_C', l_name='y_489_C')\n",
    "construct_data(X_487, y_487, distractor_indices=HFO_distractors_487_C, HFO_indices=HFO_indices_487_C, path=save_path, d_name='X_487_C', l_name='y_487_C')"
   ]
  },
  {
   "cell_type": "code",
   "execution_count": 93,
   "metadata": {},
   "outputs": [
    {
     "name": "stdout",
     "output_type": "stream",
     "text": [
      "Patient 1\n",
      "[0.81881449 0.82078422 0.85841133 0.55934324 0.98989656 0.64347146]\n",
      "Patient 2\n",
      "[0.78874153 0.82507728 0.79515641 0.67370992 0.97436477 0.78919084]\n",
      "Patient 3\n",
      "[0.82004803 0.81600247 0.81144938 0.70762683 0.97410005 0.85367831]\n",
      "Patient 4\n",
      "[0.87052342 0.86338798 0.85399449 0.67538126 0.97814208 0.77995643]\n"
     ]
    }
   ],
   "source": [
    "print(\"Patient 1\")\n",
    "overlap_compute(HFO_indices_509_A, HFO_indices_509_B, HFO_indices_509_C, '/home3/ebrahim/results/updated_results/ground_truth_global/509')\n",
    "print(\"Patient 2\")\n",
    "overlap_compute(HFO_indices_493_A, HFO_indices_493_B, HFO_indices_493_C, '/home3/ebrahim/results/updated_results/ground_truth_global/493')\n",
    "print(\"Patient 3\")\n",
    "overlap_compute(HFO_indices_489_A, HFO_indices_489_B, HFO_indices_489_C, '/home3/ebrahim/results/updated_results/ground_truth_global/489')\n",
    "print(\"Patient 4\")\n",
    "overlap_compute(HFO_indices_487_A, HFO_indices_487_B, HFO_indices_487_C, '/home3/ebrahim/results/updated_results/ground_truth_global/487')"
   ]
  },
  {
   "cell_type": "code",
   "execution_count": 83,
   "metadata": {},
   "outputs": [
    {
     "name": "stdout",
     "output_type": "stream",
     "text": [
      "(755,)\n",
      "(3412,)\n",
      "(745,)\n",
      "(3412,)\n",
      "(590,)\n",
      "(3577,)\n",
      "(2818,)\n",
      "(3577,)\n",
      "(42,)\n",
      "(4115,)\n",
      "(2280,)\n",
      "(4115,)\n"
     ]
    }
   ],
   "source": [
    "unique_overlap(HFO_indices_509_A, HFO_indices_509_B, X_509, y_509, save_path + 'hfo_509_A_B_unique', save_path + 'hfo_509_A_B_overlap', True)\n",
    "unique_overlap(HFO_indices_509_B, HFO_indices_509_A, X_509, y_509, save_path + 'hfo_509_B_A_unique', save_path + 'hfo_509_B_A_overlap', False)\n",
    "\n",
    "unique_overlap(HFO_indices_509_A, HFO_indices_509_C, X_509, y_509, save_path + 'hfo_509_A_C_unique', save_path + 'hfo_509_A_C_overlap', True)\n",
    "unique_overlap(HFO_indices_509_C, HFO_indices_509_A, X_509, y_509, save_path + 'hfo_509_C_A_unique', save_path + 'hfo_509_C_A_overlap', False)\n",
    "\n",
    "unique_overlap(HFO_indices_509_B, HFO_indices_509_C, X_509, y_509, save_path + 'hfo_509_B_C_unique', save_path + 'hfo_509_B_C_overlap', True)\n",
    "unique_overlap(HFO_indices_509_C, HFO_indices_509_B, X_509, y_509, save_path + 'hfo_509_C_B_unique', save_path + 'hfo_509_C_B_overlap', False)"
   ]
  },
  {
   "cell_type": "code",
   "execution_count": 84,
   "metadata": {},
   "outputs": [
    {
     "name": "stdout",
     "output_type": "stream",
     "text": [
      "(2931,)\n",
      "(10943,)\n",
      "(2320,)\n",
      "(10943,)\n",
      "(2842,)\n",
      "(11032,)\n",
      "(5343,)\n",
      "(11032,)\n",
      "(340,)\n",
      "(12923,)\n",
      "(3452,)\n",
      "(12923,)\n"
     ]
    }
   ],
   "source": [
    "unique_overlap(HFO_indices_493_A, HFO_indices_493_B, X_493, y_493, save_path + 'hfo_493_A_B_unique', save_path + 'hfo_493_A_B_overlap', True)\n",
    "unique_overlap(HFO_indices_493_B, HFO_indices_493_A, X_493, y_493, save_path + 'hfo_493_B_A_unique', save_path + 'hfo_493_B_A_overlap', False)\n",
    "\n",
    "unique_overlap(HFO_indices_493_A, HFO_indices_493_C, X_493, y_493, save_path + 'hfo_493_A_C_unique', save_path + 'hfo_493_A_C_overlap', True)\n",
    "unique_overlap(HFO_indices_493_C, HFO_indices_493_A, X_493, y_493, save_path + 'hfo_493_C_A_unique', save_path + 'hfo_493_C_A_overlap', False)\n",
    "\n",
    "unique_overlap(HFO_indices_493_B, HFO_indices_493_C, X_493, y_493, save_path + 'hfo_493_B_C_unique', save_path + 'hfo_493_B_C_overlap', True)\n",
    "unique_overlap(HFO_indices_493_C, HFO_indices_493_B, X_493, y_493, save_path + 'hfo_493_C_B_unique', save_path + 'hfo_493_C_B_overlap', False)"
   ]
  },
  {
   "cell_type": "code",
   "execution_count": 85,
   "metadata": {},
   "outputs": [
    {
     "name": "stdout",
     "output_type": "stream",
     "text": [
      "(2323,)\n",
      "(10586,)\n",
      "(2387,)\n",
      "(10586,)\n",
      "(2434,)\n",
      "(10475,)\n",
      "(4328,)\n",
      "(10475,)\n",
      "(336,)\n",
      "(12637,)\n",
      "(2166,)\n",
      "(12637,)\n"
     ]
    }
   ],
   "source": [
    "unique_overlap(HFO_indices_489_A, HFO_indices_489_B, X_489, y_489, save_path + 'hfo_489_A_B_unique', save_path + 'hfo_489_A_B_overlap', True)\n",
    "unique_overlap(HFO_indices_489_B, HFO_indices_489_A, X_489, y_489, save_path + 'hfo_489_B_A_unique', save_path + 'hfo_489_B_A_overlap', False)\n",
    "\n",
    "unique_overlap(HFO_indices_489_A, HFO_indices_489_C, X_489, y_489, save_path + 'hfo_489_A_C_unique', save_path + 'hfo_489_A_C_overlap', True)\n",
    "unique_overlap(HFO_indices_489_C, HFO_indices_489_A, X_489, y_489, save_path + 'hfo_489_C_A_unique', save_path + 'hfo_489_C_A_overlap', False)\n",
    "\n",
    "unique_overlap(HFO_indices_489_B, HFO_indices_489_C, X_489, y_489, save_path + 'hfo_489_B_C_unique', save_path + 'hfo_489_B_C_overlap', True)\n",
    "unique_overlap(HFO_indices_489_C, HFO_indices_489_B, X_489, y_489, save_path + 'hfo_489_C_B_unique', save_path + 'hfo_489_C_B_overlap', False)"
   ]
  },
  {
   "cell_type": "code",
   "execution_count": 86,
   "metadata": {},
   "outputs": [
    {
     "name": "stdout",
     "output_type": "stream",
     "text": [
      "(47,)\n",
      "(316,)\n",
      "(50,)\n",
      "(316,)\n",
      "(53,)\n",
      "(310,)\n",
      "(149,)\n",
      "(310,)\n",
      "(8,)\n",
      "(358,)\n",
      "(101,)\n",
      "(358,)\n"
     ]
    }
   ],
   "source": [
    "unique_overlap(HFO_indices_487_A, HFO_indices_487_B, X_487, y_487, save_path + 'hfo_487_A_B_unique', save_path + 'hfo_487_A_B_overlap', True)\n",
    "unique_overlap(HFO_indices_487_B, HFO_indices_487_A, X_487, y_487, save_path + 'hfo_487_B_A_unique', save_path + 'hfo_487_B_A_overlap', False)\n",
    "\n",
    "unique_overlap(HFO_indices_487_A, HFO_indices_487_C, X_487, y_487, save_path + 'hfo_487_A_C_unique', save_path + 'hfo_487_A_C_overlap', True)\n",
    "unique_overlap(HFO_indices_487_C, HFO_indices_487_A, X_487, y_487, save_path + 'hfo_487_C_A_unique', save_path + 'hfo_487_C_A_overlap', False)\n",
    "\n",
    "unique_overlap(HFO_indices_487_B, HFO_indices_487_C, X_487, y_487, save_path + 'hfo_487_B_C_unique', save_path + 'hfo_487_B_C_overlap', True)\n",
    "unique_overlap(HFO_indices_487_C, HFO_indices_487_B, X_487, y_487, save_path + 'hfo_487_C_B_unique', save_path + 'hfo_487_C_B_overlap', False)"
   ]
  },
  {
   "cell_type": "code",
   "execution_count": 13,
   "metadata": {
    "collapsed": true
   },
   "outputs": [],
   "source": [
    "#------------------------- Create within patient experiment data ----------------------------------\n",
    "\n",
    "\n",
    "\n",
    "\n",
    "#------------------------------------------------------------------------------------------"
   ]
  },
  {
   "cell_type": "code",
   "execution_count": 17,
   "metadata": {
    "collapsed": true
   },
   "outputs": [],
   "source": [
    "datapath = ['R_509_1_data.npy', 'L_493_7_data.npy', 'R_489_3_data.npy', 'L_487_5_data.npy']\n",
    "labelpath = ['R_509_1_labels.npy', 'L_493_7_labels.npy','R_489_3_labels.npy', 'L_487_5_labels.npy']"
   ]
  },
  {
   "cell_type": "code",
   "execution_count": 18,
   "metadata": {},
   "outputs": [
    {
     "name": "stdout",
     "output_type": "stream",
     "text": [
      "NON 487\n"
     ]
    }
   ],
   "source": [
    "base_path = '/home3/ebrahim/ripple_code/yasa_labels/deep_learning/train/yara_single_labels/'\n",
    "base =  '/home3/ebrahim/ripple_code/yasa_labels/weighted_labels/'\n",
    "pname = '509/'\n",
    "global_bool = False\n",
    "save_path = base + '509_d/'\n",
    "\n",
    "\n",
    "if pname == '487/':\n",
    "    thresh = .98\n",
    "    HFO_thresh=.84\n",
    "    candidate_thresh=.57\n",
    "else:\n",
    "    print(\"NON 487\")\n",
    "    HFO_thresh=.9\n",
    "    candidate_thresh=.65\n",
    "    thresh = .99"
   ]
  },
  {
   "cell_type": "code",
   "execution_count": 20,
   "metadata": {},
   "outputs": [
    {
     "name": "stdout",
     "output_type": "stream",
     "text": [
      "Shape before  preprocessing\n",
      "(287993, 100, 2)\n"
     ]
    },
    {
     "data": {
      "image/png": "[encoded data removed]",
      "text/plain": [
       "<Figure size 432x288 with 1 Axes>"
      ]
     },
     "metadata": {
      "needs_background": "light"
     },
     "output_type": "display_data"
    },
    {
     "name": "stdout",
     "output_type": "stream",
     "text": [
      "Before outlier removal:  287993\n"
     ]
    },
    {
     "data": {
      "image/png": "[encoded data removed]",
      "text/plain": [
       "<Figure size 432x288 with 1 Axes>"
      ]
     },
     "metadata": {
      "needs_background": "light"
     },
     "output_type": "display_data"
    },
    {
     "name": "stdout",
     "output_type": "stream",
     "text": [
      "After outlier removal:  285113\n"
     ]
    }
   ],
   "source": [
    "print(\"Shape before  preprocessing\")\n",
    "X = np.load(base + pname + datapath[0])\n",
    "y = np.load(base + pname + labelpath[0])\n",
    "X_red, y_red = remove_outlier_normalize(X, y, thresh, False)"
   ]
  },
  {
   "cell_type": "code",
   "execution_count": 36,
   "metadata": {
    "collapsed": true
   },
   "outputs": [],
   "source": [
    "y_rel_quantile = stats.rankdata(y_red[:,0], \"average\")/len(y_red[:,0])\n",
    "y_corr_quantile = stats.rankdata(y_red[:,1], \"average\")/len(y_red[:,1])\n",
    "y_rms_quantile = stats.rankdata(y_red[:,2], \"average\")/len(y_red[:,2])\n",
    "\n",
    "y_quantile = np.vstack((y_rel_quantile, y_corr_quantile, y_rms_quantile)).T"
   ]
  },
  {
   "cell_type": "code",
   "execution_count": 37,
   "metadata": {},
   "outputs": [
    {
     "name": "stdout",
     "output_type": "stream",
     "text": [
      "(35634, 3)\n",
      "(35634, 3)\n",
      "(35634, 3)\n",
      "(35634, 3)\n"
     ]
    }
   ],
   "source": [
    "# divide data into quadrants\n",
    "fourth = int(X_red.shape[0]/4)\n",
    "X_q1 = X_red[:fourth]\n",
    "y_q1 = y_quantile[:fourth]\n",
    "print(y_q1.shape)\n",
    "X_q2 = X_red[fourth:fourth*2]\n",
    "y_q2 = y_quantile[fourth:fourth*2]\n",
    "print(y_q2.shape)\n",
    "X_q3 = X_red[fourth*2:fourth*3]\n",
    "y_q3 = y_quantile[fourth*2:fourth*3]\n",
    "print(y_q3.shape)\n",
    "X_q4 = X_red[-fourth:]\n",
    "y_q4 = y_quantile[-fourth:]\n",
    "print(y_q4.shape)"
   ]
  },
  {
   "cell_type": "code",
   "execution_count": 38,
   "metadata": {},
   "outputs": [
    {
     "name": "stdout",
     "output_type": "stream",
     "text": [
      "Epoch 1:  [103.98495779   1.88785448]\n",
      "Epoch 2:  [125.51714369   1.94684388]\n",
      "Epoch 3:  [122.27753042   1.84465894]\n",
      "Epoch 4:  [108.16259509   1.85117007]\n"
     ]
    }
   ],
   "source": [
    "compute_epoch_stats(X_q1, X_q2, X_q3, X_q4, pname[0], save_path='/home3/ebrahim/results/updated_results/epoch_stats/', print_mode=True)"
   ]
  },
  {
   "cell_type": "code",
   "execution_count": 39,
   "metadata": {
    "collapsed": true
   },
   "outputs": [],
   "source": [
    "A_weights = [1,3,1]\n",
    "B_weights = [3,1,1]\n",
    "C_weights = [6,1,1]"
   ]
  },
  {
   "cell_type": "code",
   "execution_count": 40,
   "metadata": {},
   "outputs": [
    {
     "name": "stdout",
     "output_type": "stream",
     "text": [
      "Q1\n",
      "HFOs:  2030\n",
      "HFO Space shape:  2030\n",
      "Unique HFOs:  1089\n",
      "Q2\n",
      "HFOs:  1708\n",
      "HFO Space shape:  1708\n",
      "Unique HFOs:  858\n",
      "Q3\n",
      "HFOs:  1423\n",
      "HFO Space shape:  1423\n",
      "Unique HFOs:  756\n",
      "Q4\n",
      "HFOs:  1506\n",
      "HFO Space shape:  1506\n",
      "Unique HFOs:  827\n"
     ]
    }
   ],
   "source": [
    "print(\"Q1\")\n",
    "HFO_indices_q1_A = select_arr_quantile(y_q1, HFO_thresh, candidate_thresh, HFO=True, weights=A_weights)\n",
    "HFO_distractors_q1_A = select_arr_quantile(y_q1,  HFO_thresh, candidate_thresh, None, weights=A_weights, HFO_ind=HFO_indices_q1_A)\n",
    "count_num_hfos_nonoverlap(np.asarray(HFO_indices_q1_A))\n",
    "\n",
    "print(\"Q2\")\n",
    "HFO_indices_q2_A = select_arr_quantile(y_q2,  HFO_thresh, candidate_thresh, HFO=True, weights=A_weights)\n",
    "HFO_distractors_q2_A = select_arr_quantile(y_q2,  HFO_thresh, candidate_thresh,None, weights=A_weights, HFO_ind=HFO_indices_q2_A)\n",
    "count_num_hfos_nonoverlap(np.asarray(HFO_indices_q2_A))\n",
    "\n",
    "print(\"Q3\")\n",
    "HFO_indices_q3_A = select_arr_quantile(y_q3,  HFO_thresh, candidate_thresh,  HFO=True, weights=A_weights)\n",
    "HFO_distractors_q3_A = select_arr_quantile(y_q3,  HFO_thresh, candidate_thresh, weights=A_weights, HFO_ind=HFO_indices_q3_A)\n",
    "count_num_hfos_nonoverlap(np.asarray(HFO_indices_q3_A))\n",
    "\n",
    "print(\"Q4\")\n",
    "HFO_indices_q4_A = select_arr_quantile(y_q4,  HFO_thresh, candidate_thresh, HFO=True, weights=A_weights)\n",
    "HFO_distractors_q4_A = select_arr_quantile(y_q4,  HFO_thresh, candidate_thresh, weights=A_weights, HFO_ind=HFO_indices_q4_A)\n",
    "count_num_hfos_nonoverlap(np.asarray(HFO_indices_q4_A))"
   ]
  },
  {
   "cell_type": "code",
   "execution_count": 41,
   "metadata": {},
   "outputs": [
    {
     "name": "stdout",
     "output_type": "stream",
     "text": [
      "Q1\n",
      "HFOs:  2306\n",
      "HFO Space shape:  2306\n",
      "Unique HFOs:  1119\n",
      "Q2\n",
      "HFOs:  1875\n",
      "HFO Space shape:  1875\n",
      "Unique HFOs:  851\n",
      "Q3\n",
      "HFOs:  1626\n",
      "HFO Space shape:  1626\n",
      "Unique HFOs:  744\n",
      "Q4\n",
      "HFOs:  1704\n",
      "HFO Space shape:  1704\n",
      "Unique HFOs:  849\n"
     ]
    }
   ],
   "source": [
    "print(\"Q1\")\n",
    "HFO_indices_q1_B = select_arr_quantile(y_q1,  HFO_thresh, candidate_thresh, HFO=True, weights=B_weights)\n",
    "HFO_distractors_q1_B = select_arr_quantile(y_q1,  HFO_thresh, candidate_thresh, weights=B_weights, HFO_ind=HFO_indices_q1_B)\n",
    "count_num_hfos_nonoverlap(np.asarray(HFO_indices_q1_B))\n",
    "\n",
    "print(\"Q2\")\n",
    "HFO_indices_q2_B = select_arr_quantile(y_q2, HFO_thresh, candidate_thresh, HFO=True, weights=B_weights)\n",
    "HFO_distractors_q2_B = select_arr_quantile(y_q2,  HFO_thresh, candidate_thresh, None, weights=B_weights, HFO_ind=HFO_indices_q2_B)\n",
    "count_num_hfos_nonoverlap(np.asarray(HFO_indices_q2_B))\n",
    "\n",
    "print(\"Q3\")\n",
    "HFO_indices_q3_B = select_arr_quantile(y_q3,  HFO_thresh, candidate_thresh, HFO=True, weights=B_weights)\n",
    "HFO_distractors_q3_B = select_arr_quantile(y_q3,  HFO_thresh, candidate_thresh, weights=B_weights, HFO_ind=HFO_indices_q3_B)\n",
    "count_num_hfos_nonoverlap(np.asarray(HFO_indices_q3_B))\n",
    "\n",
    "print(\"Q4\")\n",
    "HFO_indices_q4_B = select_arr_quantile(y_q4, HFO_thresh, candidate_thresh,  HFO=True, weights=B_weights)\n",
    "HFO_distractors_q4_B = select_arr_quantile(y_q4,  HFO_thresh, candidate_thresh, weights=B_weights, HFO_ind=HFO_indices_q4_B)\n",
    "count_num_hfos_nonoverlap(np.asarray(HFO_indices_q4_B))"
   ]
  },
  {
   "cell_type": "code",
   "execution_count": 42,
   "metadata": {},
   "outputs": [
    {
     "name": "stdout",
     "output_type": "stream",
     "text": [
      "Q1\n",
      "HFOs:  2855\n",
      "HFO Space shape:  2855\n",
      "Unique HFOs:  1332\n",
      "Q2\n",
      "HFOs:  2210\n",
      "HFO Space shape:  2210\n",
      "Unique HFOs:  987\n",
      "Q3\n",
      "HFOs:  1902\n",
      "HFO Space shape:  1902\n",
      "Unique HFOs:  863\n",
      "Q4\n",
      "HFOs:  2085\n",
      "HFO Space shape:  2085\n",
      "Unique HFOs:  1029\n"
     ]
    }
   ],
   "source": [
    "print(\"Q1\")\n",
    "HFO_indices_q1_C = select_arr_quantile(y_q1, HFO_thresh, candidate_thresh, HFO=True,  weights=C_weights)\n",
    "HFO_distractors_q1_C = select_arr_quantile(y_q1,  HFO_thresh, candidate_thresh, None, weights=C_weights, HFO_ind=HFO_indices_q1_C)\n",
    "count_num_hfos_nonoverlap(np.asarray(HFO_indices_q1_C))\n",
    "print(\"Q2\")\n",
    "HFO_indices_q2_C = select_arr_quantile(y_q2,  HFO_thresh, candidate_thresh, HFO=True, weights=C_weights)\n",
    "HFO_distractors_q2_C = select_arr_quantile(y_q2,  HFO_thresh, candidate_thresh, None, weights=C_weights, HFO_ind=HFO_indices_q2_C)\n",
    "count_num_hfos_nonoverlap(np.asarray(HFO_indices_q2_C))\n",
    "print(\"Q3\")\n",
    "HFO_indices_q3_C = select_arr_quantile(y_q3,  HFO_thresh, candidate_thresh, HFO=True, weights=C_weights)\n",
    "HFO_distractors_q3_C = select_arr_quantile(y_q3,  HFO_thresh, candidate_thresh, None, weights=C_weights, HFO_ind=HFO_indices_q3_C)\n",
    "count_num_hfos_nonoverlap(np.asarray(HFO_indices_q3_C))\n",
    "print(\"Q4\")\n",
    "HFO_indices_q4_C = select_arr_quantile(y_q4,  HFO_thresh, candidate_thresh, HFO=True, weights=C_weights)\n",
    "HFO_distractors_q4_C = select_arr_quantile(y_q4,  HFO_thresh, candidate_thresh,  weights=C_weights, HFO_ind=HFO_indices_q4_C)\n",
    "count_num_hfos_nonoverlap(np.asarray(HFO_indices_q4_C))"
   ]
  },
  {
   "cell_type": "code",
   "execution_count": 45,
   "metadata": {},
   "outputs": [
    {
     "name": "stdout",
     "output_type": "stream",
     "text": [
      "Epoch 1\n",
      "[0.82561576 0.72679965 0.82857143 0.58914186 0.98829141 0.79824869]\n",
      "Epoch 2\n",
      "[0.80796253 0.736      0.79859485 0.61719457 0.9792     0.83076923]\n",
      "Epoch 3\n",
      "[0.8411806  0.73616236 0.84047786 0.62881178 0.98769988 0.84437434]\n",
      "Epoch 4\n",
      "[0.7934927  0.70129108 0.79150066 0.57170264 0.9870892  0.80671463]\n"
     ]
    }
   ],
   "source": [
    "# Compute consistency across 3 detectors \n",
    "print(\"Epoch 1\")\n",
    "overlap_compute(HFO_indices_q1_A, HFO_indices_q1_B, HFO_indices_q1_C, '')\n",
    "print(\"Epoch 2\")\n",
    "overlap_compute(HFO_indices_q2_A, HFO_indices_q2_B, HFO_indices_q2_C, '')\n",
    "print(\"Epoch 3\")\n",
    "overlap_compute(HFO_indices_q3_A, HFO_indices_q3_B, HFO_indices_q3_C, '')\n",
    "print(\"Epoch 4\")\n",
    "overlap_compute(HFO_indices_q4_A, HFO_indices_q4_B, HFO_indices_q4_C, '')"
   ]
  },
  {
   "cell_type": "code",
   "execution_count": 51,
   "metadata": {},
   "outputs": [
    {
     "name": "stdout",
     "output_type": "stream",
     "text": [
      "X quantile shape:  (600, 3)\n",
      "X classification shape:  (600, 100, 2)\n",
      "y classification shape:  (600,)\n"
     ]
    }
   ],
   "source": [
    "# save smaller datasets for pre-training experiments\n",
    "ci_300 = np.linspace(0, HFO_distractors_q1_C.shape[0]-1, 300, dtype=int)\n",
    "hi_300 = np.linspace(0, HFO_indices_q1_C.shape[0]-1, 300, dtype=int)\n",
    "\n",
    "cand_indices_500 = np.linspace(0, HFO_distractors_q1_C.shape[0], 500, dtype=int)\n",
    "hfo_indices_500 = np.linspace(0, HFO_indices_q1_C.shape[0]-1, 500, dtype=int)\n",
    "\n",
    "construct_data(X_q1, y_q1, distractor_indices=HFO_distractors_q1_C[ci_300], \n",
    "               HFO_indices=HFO_indices_q1_C[hi_300], path=save_path, d_name='X_q1_C_300', l_name='y_q1_C_300', save_quantile=True)\n",
    "\n",
    "construct_data(X_q1, y_q1, distractor_indices=HFO_distractors_q1_C[ci_300], \n",
    "               HFO_indices=HFO_indices_q1_C[hi_300], path=save_path, d_name='X_q1_C_500', l_name='y_q1_C_500', save_quantile=True)\n",
    "\n"
   ]
  },
  {
   "cell_type": "code",
   "execution_count": null,
   "metadata": {
    "collapsed": true
   },
   "outputs": [],
   "source": [
    "construct_data(X_q1, y_q1, distractor_indices=HFO_distractors_q1_C, HFO_indices=HFO_indices_q1_C, path=save_path, d_name='X_q1_C', l_name='y_q1_C', save_quantile=True)\n",
    "construct_data(X_q2, y_q2, distractor_indices=HFO_distractors_q2_C, HFO_indices=HFO_indices_q2_C, path=save_path, d_name='X_q2_C', l_name='y_q2_C', save_quantile=True)\n",
    "construct_data(X_q3, y_q3, distractor_indices=HFO_distractors_q3_C, HFO_indices=HFO_indices_q3_C, path=save_path, d_name='X_q3_C', l_name='y_q3_C', save_quantile=True)\n",
    "construct_data(X_q4, y_q4, distractor_indices=HFO_distractors_q4_C, HFO_indices=HFO_indices_q4_C, path=save_path, d_name='X_q4_C', l_name='y_q4_C', save_quantile=True)"
   ]
  },
  {
   "cell_type": "code",
   "execution_count": null,
   "metadata": {
    "collapsed": true
   },
   "outputs": [],
   "source": [
    "construct_data(X_q1, y_q1, distractor_indices=HFO_distractors_q1_A, HFO_indices=HFO_indices_q1_A, path=save_path, d_name='X_q1_A', l_name='y_q1_A', save_quantile=True)\n",
    "construct_data(X_q2, y_q2, distractor_indices=HFO_distractors_q2_B, HFO_indices=HFO_indices_q2_B, path=save_path, d_name='X_q2_B', l_name='y_q2_B', save_quantile=True)\n",
    "construct_data(X_q3, y_q3, distractor_indices=HFO_distractors_q3_A, HFO_indices=HFO_indices_q3_A, path=save_path, d_name='X_q3_A', l_name='y_q3_A', save_quantile=True)\n",
    "construct_data(X_q4, y_q4, distractor_indices=HFO_distractors_q4_B, HFO_indices=HFO_indices_q4_B, path=save_path, d_name='X_q4_B', l_name='y_q4_B', save_quantile=True)"
   ]
  },
  {
   "cell_type": "code",
   "execution_count": 90,
   "metadata": {},
   "outputs": [
    {
     "name": "stdout",
     "output_type": "stream",
     "text": [
      "X quantile shape:  (8008, 3)\n",
      "X classification shape:  (8008, 100, 2)\n",
      "y classification shape:  (8008,)\n",
      "X quantile shape:  (7210, 3)\n",
      "X classification shape:  (7210, 100, 2)\n",
      "y classification shape:  (7210,)\n",
      "X quantile shape:  (7052, 3)\n",
      "X classification shape:  (7052, 100, 2)\n",
      "y classification shape:  (7052,)\n",
      "X quantile shape:  (7600, 3)\n",
      "X classification shape:  (7600, 100, 2)\n",
      "y classification shape:  (7600,)\n"
     ]
    }
   ],
   "source": [
    "construct_data(X_q1, y_q1, distractor_indices=HFO_distractors_q1_B, HFO_indices=HFO_indices_q1_B, path=save_path, d_name='X_q1_B', l_name='y_q1_B', save_quantile=True)\n",
    "construct_data(X_q2, y_q2, distractor_indices=HFO_distractors_q2_A, HFO_indices=HFO_indices_q2_A, path=save_path, d_name='X_q2_A', l_name='y_q2_A', save_quantile=True)\n",
    "construct_data(X_q3, y_q3, distractor_indices=HFO_distractors_q3_B, HFO_indices=HFO_indices_q3_B, path=save_path, d_name='X_q3_B', l_name='y_q3_B', save_quantile=True)\n",
    "construct_data(X_q4, y_q4, distractor_indices=HFO_distractors_q4_A, HFO_indices=HFO_indices_q4_A, path=save_path, d_name='X_q4_A', l_name='y_q4_A', save_quantile=True)"
   ]
  },
  {
   "cell_type": "code",
   "execution_count": 197,
   "metadata": {
    "tags": []
   },
   "outputs": [
    {
     "name": "stdout",
     "output_type": "stream",
     "text": [
      "(348,)\n",
      "(1682,)\n",
      "(344,)\n",
      "(1364,)\n",
      "(227,)\n",
      "(1196,)\n",
      "(314,)\n",
      "(1192,)\n"
     ]
    }
   ],
   "source": [
    "unique_overlap(HFO_indices_q1_A, HFO_indices_q1_C, X_q1, y_q1, save_path + 'hfo_q1_A_C_unique', save_path + 'hfo_q1_A_C_overlap', True)\n",
    "unique_overlap(HFO_indices_q2_A, HFO_indices_q2_C, X_q2, y_q2, save_path + 'hfo_q2_A_C_unique', save_path + 'hfo_q2_A_C_overlap', True)\n",
    "unique_overlap(HFO_indices_q3_A, HFO_indices_q3_C, X_q3, y_q3, save_path + 'hfo_q3_A_C_unique', save_path + 'hfo_q3_A_C_overlap', True)\n",
    "unique_overlap(HFO_indices_q4_A, HFO_indices_q4_C, X_q4, y_q4, save_path + 'hfo_q4_A_C_unique', save_path + 'hfo_q4_A_C_overlap', True)"
   ]
  },
  {
   "cell_type": "code",
   "execution_count": 198,
   "metadata": {
    "tags": []
   },
   "outputs": [
    {
     "name": "stdout",
     "output_type": "stream",
     "text": [
      "(27,)\n",
      "(2279,)\n",
      "(39,)\n",
      "(1836,)\n",
      "(20,)\n",
      "(1606,)\n",
      "(22,)\n",
      "(1682,)\n"
     ]
    }
   ],
   "source": [
    "unique_overlap(HFO_indices_q1_B, HFO_indices_q1_C, X_q1, y_q1, save_path + 'hfo_q1_B_C_unique', save_path + 'hfo_q1_B_C_overlap', True)\n",
    "unique_overlap(HFO_indices_q2_B, HFO_indices_q2_C, X_q2, y_q2, save_path + 'hfo_q2_B_C_unique', save_path + 'hfo_q2_B_C_overlap', True)\n",
    "unique_overlap(HFO_indices_q3_B, HFO_indices_q3_C, X_q3, y_q3, save_path + 'hfo_q3_B_C_unique', save_path + 'hfo_q3_B_C_overlap', True)\n",
    "unique_overlap(HFO_indices_q4_B, HFO_indices_q4_C, X_q4, y_q4, save_path + 'hfo_q4_B_C_unique', save_path + 'hfo_q4_B_C_overlap', True)"
   ]
  },
  {
   "cell_type": "code",
   "execution_count": 199,
   "metadata": {
    "tags": []
   },
   "outputs": [
    {
     "name": "stdout",
     "output_type": "stream",
     "text": [
      "(1173,)\n",
      "(1682,)\n",
      "(846,)\n",
      "(1364,)\n",
      "(706,)\n",
      "(1196,)\n",
      "(893,)\n",
      "(1192,)\n"
     ]
    }
   ],
   "source": [
    "unique_overlap(HFO_indices_q1_C, HFO_indices_q1_A, X_q1, y_q1, save_path + 'hfo_q1_C_A_unique', save_path + 'hfo_q1_C_A_overlap', False)\n",
    "unique_overlap(HFO_indices_q2_C, HFO_indices_q2_A, X_q2, y_q2, save_path + 'hfo_q2_C_A_unique', save_path + 'hfo_q2_C_A_overlap', False)\n",
    "unique_overlap(HFO_indices_q3_C, HFO_indices_q3_A, X_q3, y_q3, save_path + 'hfo_q3_C_A_unique', save_path + 'hfo_q3_C_A_overlap', False)\n",
    "unique_overlap(HFO_indices_q4_C, HFO_indices_q4_A, X_q4, y_q4, save_path + 'hfo_q4_C_A_unique', save_path + 'hfo_q4_C_A_overlap', False)"
   ]
  },
  {
   "cell_type": "code",
   "execution_count": 200,
   "metadata": {
    "tags": []
   },
   "outputs": [
    {
     "name": "stdout",
     "output_type": "stream",
     "text": [
      "(576,)\n",
      "(2279,)\n",
      "(374,)\n",
      "(1836,)\n",
      "(296,)\n",
      "(1606,)\n",
      "(403,)\n",
      "(1682,)\n"
     ]
    }
   ],
   "source": [
    "unique_overlap(HFO_indices_q1_C, HFO_indices_q1_B, X_q1, y_q1, save_path + 'hfo_q1_C_B_unique', save_path + 'hfo_q1_C_B_overlap', False)\n",
    "unique_overlap(HFO_indices_q2_C, HFO_indices_q2_B, X_q2, y_q2, save_path + 'hfo_q2_C_B_unique', save_path + 'hfo_q2_C_B_overlap', False)\n",
    "unique_overlap(HFO_indices_q3_C, HFO_indices_q3_B, X_q3, y_q3, save_path + 'hfo_q3_C_B_unique', save_path + 'hfo_q3_C_B_overlap', False)\n",
    "unique_overlap(HFO_indices_q4_C, HFO_indices_q4_B, X_q4, y_q4, save_path + 'hfo_q4_C_B_unique', save_path + 'hfo_q4_C_B_overlap', False)"
   ]
  },
  {
   "cell_type": "code",
   "execution_count": 201,
   "metadata": {},
   "outputs": [
    {
     "name": "stdout",
     "output_type": "stream",
     "text": [
      "(354,)\n",
      "(1676,)\n",
      "(495,)\n",
      "(1380,)\n",
      "(226,)\n",
      "(1197,)\n",
      "(509,)\n",
      "(1195,)\n"
     ]
    }
   ],
   "source": [
    "unique_overlap(HFO_indices_q1_A, HFO_indices_q1_B, X_q1, y_q1, save_path + 'hfo_q1_A_B_unique', save_path + 'hfo_q1_A_B_overlap', True)\n",
    "unique_overlap(HFO_indices_q2_B, HFO_indices_q2_A, X_q2, y_q2, save_path + 'hfo_q2_B_A_unique', save_path + 'hfo_q2_B_A_overlap', True)\n",
    "unique_overlap(HFO_indices_q3_A, HFO_indices_q3_B, X_q3, y_q3, save_path + 'hfo_q3_A_B_unique', save_path + 'hfo_q3_A_B_overlap', True)\n",
    "unique_overlap(HFO_indices_q4_B, HFO_indices_q4_A, X_q4, y_q4, save_path + 'hfo_q4_B_A_unique', save_path + 'hfo_q4_B_A_overlap', True)"
   ]
  },
  {
   "cell_type": "code",
   "execution_count": 202,
   "metadata": {},
   "outputs": [
    {
     "name": "stdout",
     "output_type": "stream",
     "text": [
      "(630,)\n",
      "(1676,)\n",
      "(328,)\n",
      "(1380,)\n",
      "(429,)\n",
      "(1197,)\n",
      "(311,)\n",
      "(1195,)\n"
     ]
    }
   ],
   "source": [
    "unique_overlap(HFO_indices_q1_B, HFO_indices_q1_A, X_q1, y_q1, save_path + 'hfo_q1_B_A_unique', save_path + 'hfo_q1_B_A_overlap', False)\n",
    "unique_overlap(HFO_indices_q2_A, HFO_indices_q2_B, X_q2, y_q2, save_path + 'hfo_q2_A_B_unique', save_path + 'hfo_q2_A_B_overlap', False)\n",
    "unique_overlap(HFO_indices_q3_B, HFO_indices_q3_A, X_q3, y_q3, save_path + 'hfo_q3_B_A_unique', save_path + 'hfo_q3_B_A_overlap', False)\n",
    "unique_overlap(HFO_indices_q4_A, HFO_indices_q4_B, X_q4, y_q4, save_path + 'hfo_q4_A_B_unique', save_path + 'hfo_q4_A_B_overlap', False)"
   ]
  },
  {
   "cell_type": "code",
   "execution_count": null,
   "metadata": {
    "collapsed": true
   },
   "outputs": [],
   "source": []
  },
  {
   "cell_type": "code",
   "execution_count": null,
   "metadata": {
    "collapsed": true
   },
   "outputs": [],
   "source": []
  },
  {
   "cell_type": "code",
   "execution_count": null,
   "metadata": {
    "collapsed": true
   },
   "outputs": [],
   "source": []
  }
 ],
 "metadata": {
  "kernelspec": {
   "display_name": "kerasEB",
   "language": "python",
   "name": "keraseb"
  },
  "language_info": {
   "codemirror_mode": {
    "name": "ipython",
    "version": 3
   },
   "file_extension": ".py",
   "mimetype": "text/x-python",
   "name": "python",
   "nbconvert_exporter": "python",
   "pygments_lexer": "ipython3",
   "version": "3.6.9"
  }
 },
 "nbformat": 4,
 "nbformat_minor": 4
}
