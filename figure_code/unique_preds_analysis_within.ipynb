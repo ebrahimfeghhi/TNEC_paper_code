{
 "cells": [
  {
   "cell_type": "code",
   "execution_count": 1,
   "metadata": {
    "collapsed": true
   },
   "outputs": [],
   "source": [
    "# Inputs: Predictions of models on inconsistent HFOs, in the format of probabilities \n",
    "# Outputs: Divides inconsistent HFOs into 5 categories based on their degree of inconsistency, \n",
    "# returns average performance of inconsistent HFOs in each of those 5 categories"
   ]
  },
  {
   "cell_type": "code",
   "execution_count": 2,
   "metadata": {
    "collapsed": true
   },
   "outputs": [],
   "source": [
    "import numpy as np\n",
    "from matplotlib import pyplot as plt\n",
    "import matplotlib as mpl\n",
    "import seaborn as sns\n",
    "import pandas as pd\n",
    "from scipy.stats import pearsonr\n",
    "from copy import deepcopy\n",
    "from sklearn.neighbors import KernelDensity"
   ]
  },
  {
   "cell_type": "code",
   "execution_count": 7,
   "metadata": {
    "collapsed": true
   },
   "outputs": [],
   "source": [
    "labelspath = '/home3/ebrahim/TNEC_paper_code/experiment_data/'\n",
    "predspath = 'unique_overlap_preds/'"
   ]
  },
  {
   "cell_type": "code",
   "execution_count": 56,
   "metadata": {},
   "outputs": [
    {
     "name": "stdout",
     "output_type": "stream",
     "text": [
      "0\n",
      "1\n",
      "2\n",
      "3\n"
     ]
    }
   ],
   "source": [
    "ltype = ['A', 'B', 'C']\n",
    "quarters = np.asarray(['q1', 'q2', 'q3', 'q4'])\n",
    "\n",
    "pname = ['509', '493', '489', '487']\n",
    "\n",
    "consis_perf = np.zeros((3,4,4,6)) # 3 total M x 4 patients * 4 training quarters * (3 non-overlapping epochs * 2 alternative M)\n",
    "\n",
    "num_cat = np.zeros((len(pname), 4))\n",
    "avg_cat = np.zeros((4))\n",
    "\n",
    "gc_arr = []\n",
    "preds_arr = []\n",
    "preds_int_arr = []\n",
    "doi_arr = []\n",
    "\n",
    "\n",
    "# loop through patients \n",
    "for j, p in enumerate(pname):\n",
    "    print(j)\n",
    "\n",
    "    # loop through training M \n",
    "    for o, l in enumerate(ltype):\n",
    "\n",
    "        c = 0\n",
    "\n",
    "        if p != '487':\n",
    "            thresh = .9\n",
    "\n",
    "        else:\n",
    "            thresh = .84\n",
    "\n",
    "        for z, q_train in enumerate(quarters):\n",
    "            \n",
    "            # binary performance on consistent HFOs \n",
    "            consistent_HFOs = np.mean(np.load(predspath + 'model_' + l + '_' + q_train + '_' + p + '_3_overlap.npy'), axis=-1)\n",
    "            consis_perf[o, j, z] = consistent_HFOs[consistent_HFOs!=0]\n",
    "\n",
    "            # load model scores on consistent + inconsistent HFOs  \n",
    "            model_preds = np.load(predspath + 'model_' + l + '_' + q_train + '_' + p + '_3_unique_preds.npy', allow_pickle=True)\n",
    "            model_preds_consis = np.load(predspath + 'model_' + l + '_' + q_train + '_' + p + '_3_overlap_preds.npy', allow_pickle=True)\n",
    "            \n",
    "            # performance on inconsistent HFOs \n",
    "            # this is more complicated because for every testing partition \n",
    "            # we have to load the DOI for all inconsistent HFOs\n",
    "            # divide these inconsistent HFOs into categories based on their DOI \n",
    "            # and finally evaluate model performance on each category\n",
    "            for k, q in enumerate(quarters):\n",
    "\n",
    "                # if test quarter is overlapping with training quarter, continue\n",
    "                if q == q_train:\n",
    "                    continue\n",
    "\n",
    "                # MM for S2\n",
    "                for l_test in ltype:\n",
    "\n",
    "                    # if S2 is marked using the same methodology as S1, there are no inconsistent HFOs so continue\n",
    "                    if l == l_test:\n",
    "                        continue\n",
    "\n",
    "                    # load percentile scores, these are given by MM_R\n",
    "                    percentile_unq = np.load(labelspath + p + '_d/hfo_' + q + '_' + l_test + '_' + l + '_unique_percentile_labels.npy')\n",
    "                    percentile_overlap = np.load(labelspath + p + '_d/hfo_' + q + '_' + l_test + '_' + l + '_overlap_percentile_labels.npy')\n",
    "\n",
    "                    # compute degree of inconsistency (DOI), 0 equals no inconsistency\n",
    "                    if l == 'A':\n",
    "                        doi = thresh - np.average(percentile_unq, axis=-1, weights=(1,3,1))\n",
    "                        gc_arr.append(np.hstack((np.average(percentile_overlap, axis=-1, weights=(1,3,1)), \n",
    "                                         np.average(percentile_unq, axis=-1, weights=(1,3,1)))))\n",
    "                    if l == 'B':\n",
    "                        doi = thresh - np.average(percentile_unq, axis=-1, weights=(3,1,1))\n",
    "                        gc_arr.append(np.hstack((np.average(percentile_overlap, axis=-1, weights=(3,1,1)), \n",
    "                                         np.average(percentile_unq, axis=-1, weights=(3,1,1)))))\n",
    "                    if l == 'C':\n",
    "                        doi = thresh - np.average(percentile_unq, axis=-1, weights=(6,1,1))\n",
    "                        gc_arr.append(np.hstack((np.average(percentile_overlap, axis=-1, weights=(6,1,1)), \n",
    "                                         np.average(percentile_unq, axis=-1, weights=(6,1,1)))))\n",
    "                        \n",
    "                    consis_preds = model_preds_consis.item()[q + '_' + l_test]\n",
    "\n",
    "                    # append 0s of shape consis preds for consistent HFO dois\n",
    "                    doi_arr.append(np.hstack((np.zeros_like(consis_preds[:,0]), doi)))\n",
    "                        \n",
    "                    # model predictions for each HFO in S2 that is inconsistent \n",
    "                    preds = model_preds.item()[q + '_' + l_test]\n",
    "                    \n",
    "                    # we subtract the consistent class sigmoid output from the inconsistent class sigmoid output\n",
    "                    preds_arr.append(np.hstack((consis_preds[:,1]-consis_preds[:,0], preds[:,1]-preds[:,0])))"
   ]
  },
  {
   "cell_type": "code",
   "execution_count": 11,
   "metadata": {
    "collapsed": true
   },
   "outputs": [],
   "source": [
    "def compute_variance_consis_inconsis(doi_numpy, preds_numpy):\n",
    "    \n",
    "    doi_zero = np.argwhere(doi_numpy==0)\n",
    "    doi_nonzero = np.argwhere(doi_numpy!=0)\n",
    "    print(\"Standard deviation consistnet: \", np.std(preds_numpy[doi_zero]))\n",
    "    print(\"HFO Count consistent: \", preds_numpy[doi_zero].shape)\n",
    "    print(\"Standard deviation inconsistnet: \", np.std(preds_numpy[doi_nonzero]))\n",
    "    print(\"HFO Count inconsistent: \", preds_numpy[doi_nonzero].shape)"
   ]
  },
  {
   "cell_type": "code",
   "execution_count": 80,
   "metadata": {
    "collapsed": true
   },
   "outputs": [],
   "source": [
    "f= [1.2, .9, .6, .3]\n",
    "def make_doi_plots(doi_arr, preds_arr, gc_arr, int_mode, savefig=False):\n",
    "    \n",
    "    sns.set_style('white')\n",
    "    \n",
    "    f= [1.2, .9, .6, .3] # for different colored lines for each patient\n",
    "    fig, ax = plt.subplots(2,2,figsize=(10,8))\n",
    "    c = 0\n",
    "    bin_arr = np.arange(-.01, .2, .01)  \n",
    "    \n",
    "    for p in range (2):\n",
    "        for p2 in range (2):\n",
    "        \n",
    "            # select data for a single patient \n",
    "            doi_arr_patient = doi_arr[c*6:(c+1)*6]\n",
    "            preds_arr_patient = preds_arr[c*6:(c+1)*6]\n",
    "            gc_arr_patient = gc_arr[c*6:(c+1)*6]\n",
    "    \n",
    "            doi_numpy = np.hstack((doi_arr_patient))\n",
    "            preds_numpy = np.hstack((preds_arr_patient))\n",
    "            \n",
    "            np.savetxt('data_for_figures/figure_2_f_g_preds_patient_' + str(c+1) + '.csv', preds_numpy, delimiter=',')\n",
    "            gc_numpy = np.hstack((gc_arr_patient))\n",
    "            \n",
    "            #compute_variance_consis_inconsis(doi_numpy, preds_numpy)\n",
    "            \n",
    "            # integer mode, predictions are converted into a binary array \n",
    "            if int_mode:\n",
    "                preds_numpy[preds_numpy>0]=1\n",
    "                preds_numpy[preds_numpy!=1]=0\n",
    "                consis_preds = np.argwhere(preds_numpy==1)\n",
    "                inconsis_preds = np.argwhere(preds_numpy==0)\n",
    "\n",
    "                doi_numpy_graphical = deepcopy(doi_numpy)\n",
    "                doi_numpy_graphical[doi_numpy_graphical==0] = -.01 # for plotting purposes only\n",
    "\n",
    "                # compute fraction of inconsistent class predictions (by network) for each DOI bin\n",
    "                consis_pred_dois = doi_numpy_graphical[consis_preds]\n",
    "                inconsis_pred_dois = doi_numpy_graphical[inconsis_preds]\n",
    "\n",
    "                hist_consis, bins_consis = np.histogram(consis_pred_dois, bins=bin_arr)\n",
    "                hist_inconsis, bins_inconsis = np.histogram(inconsis_pred_dois, bins=bin_arr)\n",
    "                frac_inconsis = hist_inconsis / (hist_inconsis+hist_consis)\n",
    "                \n",
    "                # values presented in paper\n",
    "                print(\"PARTICIPANT NUMBER: \", c+1)\n",
    "                print(\"Fraction inconsistent: \", frac_inconsis[1])\n",
    "                print(\"N: \", hist_inconsis[1])\n",
    "                print(\"DOI BINS: \", bins_inconsis[1:3])\n",
    "\n",
    "\n",
    "                n, bins, patches = ax[p, p2].hist(doi_numpy_graphical, color=(.4, .8, .7), log=True, bins=bin_arr, \n",
    "                                  edgecolor='white', alpha=.6)\n",
    "\n",
    "                patches[0].set_facecolor(color=(.3, .3, .3))\n",
    "                for j in range(1,len(bins)-1,1):\n",
    "                    patches[j].set_facecolor(color=(.6, .6, .6))\n",
    "\n",
    "                ax[p, p2].set_xlim(bin_arr[0]-.01, .3)\n",
    "                ax[p, p2].set_xticks([0, .1])\n",
    "                \n",
    "                if p == 1:\n",
    "                    ax[p, p2].set_xlabel(\"DOI\", fontsize=16)\n",
    "\n",
    "                if p2 == 0:\n",
    "                    ax[p, p2].set_ylabel(\"HFO Count\", fontsize=16)\n",
    "\n",
    "                ax2 = ax[p, p2].twinx() \n",
    "                ax2.axhline(.4, color='b')\n",
    "                ax2.plot(bins_inconsis[:-1]+.005, frac_inconsis, marker='o', markersize=6, color=(.4*f[c], .8*f[c], .7*f[c]), linewidth=3)\n",
    "                ax2.set_ylim(0,1.05)\n",
    "                ax2.set_yticks(np.arange(0,1,.1))\n",
    "                ax2.plot()\n",
    "                  \n",
    "            # for making DOI graphs w/o sigmoid score output\n",
    "            else:\n",
    "                sns.despine()\n",
    "                ax[p, p2].set_ylim(-.05,1.05)\n",
    "                ax[p, p2].set_xlim(0, 1.05)\n",
    "\n",
    "                pear, pval = pearsonr(doi_numpy, preds_numpy)\n",
    "\n",
    "                sns.regplot(x=doi_numpy[doi_numpy!=0], y=preds_numpy[doi_numpy!=0], truncate=True, \n",
    "                            scatter_kws={'color':(.4*f[c], .8*f[c], .7*f[c]), 'edgecolor':'white', 'alpha':.8},\n",
    "                            line_kws = {'color':(0,0,0)}, ci=None, order=1,\n",
    "                                ax=ax[p, p2])\n",
    "                if p2==0:\n",
    "                    ax[p,p2].set_yticks([0, 1])\n",
    "                    ax[p,p2].set_ylabel(\"Network output\", fontsize=16)\n",
    "                else:\n",
    "                    ax[p,p2].set_yticks([])\n",
    "                if p==1:\n",
    "                    ax[p,p2].set_xticks([0, .5, 1])\n",
    "                    ax[p,p2].set_xlabel(\"DOI\", fontsize=16)\n",
    "                else:\n",
    "                    ax[p,p2].set_xticks([])\n",
    "\n",
    "            c+=1\n",
    "\n",
    "    if savefig: \n",
    "        if int_mode:\n",
    "            plt.savefig('Consistency_Figures_pdf/doi_within.pdf', dpi=400, bbox_inches='tight', format='pdf')\n",
    "            plt.savefig('Consistency_Figures_png/doi_within', dpi=400, bbox_inches='tight')\n",
    "        else:\n",
    "            plt.savefig('Consistency_Figures_pdf/sigmoid_within.pdf', dpi=400, bbox_inches='tight', format='pdf')\n",
    "            plt.savefig('Consistency_Figures_png/sigmoid_within', dpi=400, bbox_inches='tight')\n",
    "        plt.show()"
   ]
  },
  {
   "cell_type": "code",
   "execution_count": 81,
   "metadata": {},
   "outputs": [
    {
     "name": "stdout",
     "output_type": "stream",
     "text": [
      "PARTICIPANT NUMBER:  1\n",
      "Fraction inconsistent:  0.3362549800796813\n",
      "N:  422\n",
      "DOI BINS:  [0.   0.01]\n",
      "PARTICIPANT NUMBER:  2\n",
      "Fraction inconsistent:  0.3427091043671355\n",
      "N:  463\n",
      "DOI BINS:  [0.   0.01]\n",
      "PARTICIPANT NUMBER:  3\n",
      "Fraction inconsistent:  0.2688679245283019\n",
      "N:  342\n",
      "DOI BINS:  [0.   0.01]\n",
      "PARTICIPANT NUMBER:  4\n",
      "Fraction inconsistent:  0.3214562354763749\n",
      "N:  415\n",
      "DOI BINS:  [0.   0.01]\n"
     ]
    },
    {
     "data": {
      "image/png": "[encoded data removed]",
      "text/plain": [
       "<Figure size 720x576 with 8 Axes>"
      ]
     },
     "metadata": {},
     "output_type": "display_data"
    }
   ],
   "source": [
    "make_doi_plots(doi_arr, preds_arr, gc_arr, int_mode=True)"
   ]
  },
  {
   "cell_type": "code",
   "execution_count": 7,
   "metadata": {
    "collapsed": true
   },
   "outputs": [],
   "source": [
    "def plot_inconsistent_HFO_perf(consis_perf, cat1, cat2, cat3, cat4, setting):\n",
    "    \n",
    "    x = np.asarray([0, .0075, .03, .0675, .2])\n",
    "    \n",
    "    if setting==0:\n",
    "        title = ''\n",
    "        ylabel = '% consistent predictions '\n",
    "        start=0\n",
    "        f=100\n",
    "        save_name = 'inconsistent_HFOs'\n",
    "    elif setting==1:\n",
    "        title = \"Within patient network\"\n",
    "        ylabel = 'Mean sigmoid score '\n",
    "        start=1\n",
    "        f=1\n",
    "        save_name = 'sigmoid_inconsistent_HFOs'\n",
    "        \n",
    "    mean_cat1 = np.nanmean(cat1,axis=(0,2))\n",
    "    mean_cat2 = np.nanmean(cat2,axis=(0,2))\n",
    "    mean_cat3 = np.nanmean(cat3,axis=(0,2))\n",
    "    mean_cat4 = np.nanmean(cat4,axis=(0,2))\n",
    "    mean_consis = np.nanmean(consis_perf, axis=(0,2,3))\n",
    "    \n",
    "    std_cat1 = np.nanstd(cat1,axis=(0,2))\n",
    "    std_cat2 = np.nanstd(cat2,axis=(0,2))\n",
    "    std_cat3 = np.nanstd(cat3,axis=(0,2))\n",
    "    std_cat4 = np.nanstd(cat4,axis=(0,2))\n",
    "    std_consis = np.nanstd(consis_perf, axis=(0,2,3))\n",
    "    \n",
    "    jitter1 = 3e-2\n",
    "    jitter2 = 1.5e-2\n",
    "    \n",
    "    cat_509_mean = np.asarray([mean_consis[0] + jitter1, mean_cat1[0], mean_cat2[0], mean_cat3[0], mean_cat4[0]])\n",
    "    cat_509_std = [std_consis[0], std_cat1[0], std_cat2[0], std_cat3[0], std_cat4[0]]\n",
    "    \n",
    "    cat_493_mean = np.asarray([mean_consis[1] + jitter2, mean_cat1[1], mean_cat2[1], mean_cat3[1], mean_cat4[1]])\n",
    "    cat_493_std = np.asarray([std_consis[1], std_cat1[1], std_cat2[1], std_cat3[1], std_cat4[1]])\n",
    "    \n",
    "    cat_489_mean = np.asarray([mean_consis[2], mean_cat1[2], mean_cat2[2], mean_cat3[2], mean_cat4[2]])\n",
    "    cat_487_mean = np.asarray([mean_consis[3], mean_cat1[3], mean_cat2[3], mean_cat3[3], mean_cat4[3]])\n",
    "    \n",
    "    \n",
    "    fig, ax = plt.subplots(1,1, figsize=(6,3))\n",
    "    sns.set_theme()\n",
    "    sns.set_style('white')\n",
    "    sns.despine()\n",
    "    \n",
    "    ax.plot(x[start:], cat_509_mean[start:]*f, '-', marker='o', label='Patient 1', linewidth=3, markersize=10, color=(.4*1.2,.8*1.2,.7*1.2))    \n",
    "    ax.plot(x[start:], cat_493_mean[start:]*f, '-', marker='o',  label='Patient 2', linewidth=3, markersize=10, color=(.4*.9,.8*.9,.7*.9))  \n",
    "    ax.plot(x[start:], cat_489_mean[start:]*f, 'o-', label='Patient 3', linewidth=3, markersize=10, color=(.4*.6,.8*.6,.7*.6))\n",
    "    ax.plot(x[start:], cat_487_mean[start:]*f, '-', marker='o', label='Patient 4', linewidth=3, markersize=10 , color=(.4*.3,.8*.3,.7*.3))\n",
    "    ax.set_xlim(ax.get_xlim()[::-1])\n",
    "    ax.set_ylabel(ylabel, fontsize=15)\n",
    "    ax.set_xlabel('Degree of inconsistency (DOI)', fontsize=15)\n",
    "    if setting==1:\n",
    "        ax.axhline(.5, linestyle='--')\n",
    "    plt.legend()\n",
    "    ax.set_title(title, fontsize=17)\n",
    "    ax.set_xticks([.2, .1, 0])\n",
    "    ax.set_yticks([0, .5*f, 1*f])\n",
    "    ax.set_ylim(0,f*1.05)\n",
    "    \n",
    "    return stdcat1, stdcat2, stdcat3, stdcat4, std_consis"
   ]
  },
  {
   "cell_type": "code",
   "execution_count": 16,
   "metadata": {},
   "outputs": [
    {
     "data": {
      "image/png": "[encoded data removed]",
      "text/plain": [
       "<Figure size 432x216 with 1 Axes>"
      ]
     },
     "metadata": {},
     "output_type": "display_data"
    }
   ],
   "source": [
    "plot_inconsistent_HFO_perf(consis_perf, cat1_perf, cat2_perf, cat3_perf, cat4_perf, setting)"
   ]
  },
  {
   "cell_type": "code",
   "execution_count": null,
   "metadata": {
    "collapsed": true
   },
   "outputs": [],
   "source": [
    "print(cat1_perf.shape)"
   ]
  },
  {
   "cell_type": "code",
   "execution_count": null,
   "metadata": {
    "collapsed": true
   },
   "outputs": [],
   "source": [
    "def plot_heatmap(doi_arr, epochs, title):\n",
    "    \n",
    "    fig, ax = plt.subplots(2,1,figsize=(8,13))\n",
    "    plt.subplots_adjust(hspace = .3)\n",
    "\n",
    "    plt.suptitle(title, fontsize=30) \n",
    "    \n",
    "    ltype_test = np.delete(ltype, ind)\n",
    "    \n",
    "    for i in range(2):\n",
    "        sns.heatmap(doi_arr[:, i, :], annot=True, vmin=0, vmax=.1, cmap='GnBu', annot_kws={\"fontsize\":15}, ax=ax[i])\n",
    "        ax[i].set_yticks(np.arange(4)+.5)\n",
    "        ax[i].set_yticklabels(np.arange(1,5,1), fontsize=20)\n",
    "        ax[i].set_xticklabels(epochs, fontsize=20)\n",
    "        ax[i].set_ylabel(\"Patient\", fontsize=24, labelpad=7)\n",
    "        ax[i].set_xlabel(ltype_test[i], fontsize=24)\n",
    "        \n",
    "    plt.savefig(\"Consistency_Figures/\" + title, bbox_inches='tight', dpi=400)\n",
    "    plt.show()\n",
    "    \n",
    "        \n",
    "    \n",
    "    "
   ]
  }
 ],
 "metadata": {
  "kernelspec": {
   "display_name": "kerasEB",
   "language": "python",
   "name": "keraseb"
  },
  "language_info": {
   "codemirror_mode": {
    "name": "ipython",
    "version": 3
   },
   "file_extension": ".py",
   "mimetype": "text/x-python",
   "name": "python",
   "nbconvert_exporter": "python",
   "pygments_lexer": "ipython3",
   "version": "3.6.9"
  }
 },
 "nbformat": 4,
 "nbformat_minor": 5
}
