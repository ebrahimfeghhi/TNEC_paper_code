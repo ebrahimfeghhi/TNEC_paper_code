{
 "cells": [
  {
   "cell_type": "code",
   "execution_count": 1,
   "metadata": {
    "collapsed": true,
    "tags": []
   },
   "outputs": [],
   "source": [
    "import numpy as np\n",
    "import pandas as pd\n",
    "from matplotlib import pyplot as plt\n",
    "import seaborn as sns"
   ]
  },
  {
   "cell_type": "code",
   "execution_count": 13,
   "metadata": {},
   "outputs": [],
   "source": [
    "models_path = '/home3/ebrahim/TNEC_paper_code/saved_models/'\n",
    "save_figure_path = '/home3/ebrahim/TNEC_paper_code/figures/'"
   ]
  },
  {
   "cell_type": "code",
   "execution_count": 7,
   "metadata": {
    "collapsed": true,
    "tags": []
   },
   "outputs": [],
   "source": [
    "def load_lists(path):\n",
    "    #print(\"Accuracy List:\", np.load(path + 'accuracy_list.npy'))\n",
    "    #print(\"Accuracy mean:\", np.mean(np.load(path + 'accuracy_list.npy')))\n",
    "    #print(\"Val loss:\", np.mean(np.load(path + 'accuracy_list.npy')))\n",
    "    #with open(path + 'hyper_params.txt') as f:\n",
    "    #    contents = f.read()\n",
    "    #print(\"Hyperparameters:\", contents) \n",
    "    return np.mean(np.load(path + 'accuracy_list.npy'))"
   ]
  },
  {
   "cell_type": "code",
   "execution_count": 8,
   "metadata": {},
   "outputs": [],
   "source": [
    "quarters = ['q1', 'q2', 'q3', 'q4']\n",
    "mm_list = ['A', 'B', 'C']\n",
    "participants = ['509', '493', '489', '487']\n",
    "kfold_accuracy_values = []\n",
    "for q in quarters:\n",
    "    for mm in mm_list:\n",
    "        for p in participants:\n",
    "            try:\n",
    "                kfold_accuracy_values.append(load_lists(models_path + mm + '_' + q + '_' + p + '_kfold/'))\n",
    "            except:\n",
    "                print(mm, q, p)"
   ]
  },
  {
   "cell_type": "code",
   "execution_count": 14,
   "metadata": {},
   "outputs": [
    {
     "data": {
      "image/png": "[encoded data removed]",
      "text/plain": [
       "<Figure size 432x288 with 1 Axes>"
      ]
     },
     "metadata": {
      "needs_background": "light"
     },
     "output_type": "display_data"
    }
   ],
   "source": [
    "fig, ax = plt.subplots(1,1, figsize=(6,4))\n",
    "sns.despine()\n",
    "ax.set_ylabel(\"Count\", fontsize=14)\n",
    "ax.set_yticks([0, 10, 15])\n",
    "ax.set_xticks([.85, .9, 1])\n",
    "ax.set_xlim([.85,1])\n",
    "ax.set_xlabel(\"Five-fold accuracy\", fontsize=14)\n",
    "sns.histplot(kfold_accuracy_values, ax=ax)\n",
    "plt.savefig(save_figure_path + 'kfold_accuracy.pdf', format='pdf', bbox_inches='tight')"
   ]
  },
  {
   "cell_type": "code",
   "execution_count": null,
   "metadata": {},
   "outputs": [],
   "source": []
  }
 ],
 "metadata": {
  "kernelspec": {
   "display_name": "kerasEB",
   "language": "python",
   "name": "keraseb"
  },
  "language_info": {
   "codemirror_mode": {
    "name": "ipython",
    "version": 3
   },
   "file_extension": ".py",
   "mimetype": "text/x-python",
   "name": "python",
   "nbconvert_exporter": "python",
   "pygments_lexer": "ipython3",
   "version": "3.6.9"
  }
 },
 "nbformat": 4,
 "nbformat_minor": 4
}
