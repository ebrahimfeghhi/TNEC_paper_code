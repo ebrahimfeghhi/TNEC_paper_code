{
 "cells": [
  {
   "cell_type": "code",
   "execution_count": 1,
   "metadata": {
    "collapsed": true,
    "tags": []
   },
   "outputs": [],
   "source": [
    "import numpy as np\n",
    "from matplotlib import pyplot as plt\n",
    "import matplotlib as mpl\n",
    "import seaborn as sns\n",
    "import pandas as pd\n",
    "from scipy import stats\n",
    "from scipy.stats import pearsonr\n",
    "from  matplotlib.ticker import FuncFormatter"
   ]
  },
  {
   "cell_type": "code",
   "execution_count": 2,
   "metadata": {
    "collapsed": true
   },
   "outputs": [],
   "source": [
    "COLOR = 'black'\n",
    "mpl.rcParams['text.color'] = COLOR\n",
    "mpl.rcParams['axes.labelcolor'] = COLOR\n",
    "mpl.rcParams['xtick.color'] = COLOR\n",
    "mpl.rcParams['ytick.color'] = COLOR"
   ]
  },
  {
   "cell_type": "code",
   "execution_count": 3,
   "metadata": {
    "collapsed": true,
    "tags": []
   },
   "outputs": [],
   "source": [
    "ltype = ['A', 'B', 'C']\n",
    "quarters = ['q1', 'q2', 'q3', 'q4']\n",
    "pnames = ['509', '493', '489', '487']\n",
    "base = 'total_data_final/'\n",
    "num_models = 10\n",
    "noe = len(quarters) - 1 # non-overlapping epochs (noe)\n",
    "\n",
    "# results are stored in the following fashion:\n",
    "# Dimension 1: Detector type that model was trained on (A,B,C) \n",
    "# Dimension 2: Patient that model was trained on (1,2,3,4)\n",
    "# Dimension 3: Epoch that model was trained on (1,2,3,4)\n",
    "# Dimension 4: Classification accuracy on HFOs on non-overlapping epochs\n",
    "# Dimension 5: The number of models trained\n",
    "\n",
    "# each array is the model predictions on HFOs from that detector \n",
    "a_arr_total = np.zeros((len(ltype), len(pnames), len(quarters), noe, num_models))\n",
    "b_arr_total = np.zeros((len(ltype), len(pnames), len(quarters), noe, num_models))\n",
    "c_arr_total = np.zeros((len(ltype), len(pnames), len(quarters), noe, num_models))\n",
    "\n",
    "# dimension 5 is averaged\n",
    "a_arr = np.zeros((len(ltype), len(pnames), len(quarters), noe))\n",
    "b_arr = np.zeros((len(ltype), len(pnames), len(quarters), noe))\n",
    "c_arr = np.zeros((len(ltype), len(pnames), len(quarters), noe))\n",
    "\n",
    "\n",
    "\n",
    "\n",
    "for i, la in enumerate(ltype):\n",
    "    for j, p in enumerate(pnames):\n",
    "        for l, q in enumerate(quarters):\n",
    "            model_name = base + 'model_' + la + '_' + q + '_' + p + '_3'\n",
    "            a = np.load(model_name + '_sens_A.npy')\n",
    "            a = np.reshape(a[a!=0], (noe,num_models))\n",
    "            a_arr_total[i, j, l, :, :] = a\n",
    "            a_arr[i, j, l, :] = np.mean(a,axis=-1)\n",
    "            b = np.load(model_name + '_sens_B.npy')\n",
    "            b = np.reshape(b[b!=0], (noe,num_models))\n",
    "            b_arr_total[i, j, l, :, :] = b\n",
    "            b_arr[i, j, l, :] = np.mean(b,axis=-1)\n",
    "            c = np.load(model_name + '_sens_C.npy')\n",
    "            c_mean = np.mean(c,axis=-1)\n",
    "            c = np.reshape(c[c!=0], (noe,num_models))\n",
    "            c_arr_total[i, j, l, :, :] = c\n",
    "            c_arr[i, j, l, :] = np.mean(c,axis=-1)"
   ]
  },
  {
   "cell_type": "code",
   "execution_count": 4,
   "metadata": {
    "collapsed": true
   },
   "outputs": [],
   "source": [
    "def compute_scores(s1, s2, same_M=False):\n",
    "    \n",
    "    '''\n",
    "    Explanation for cscores dimensions:\n",
    "    Dimension 1: participants \n",
    "    Dimension 2: number of possible epochs used for training \n",
    "    Dimension 3: possible choices for test and val ->\n",
    "        suppose a model was trained on q1_A, participant 1. \n",
    "        we want to compute nc_scores for B|A\n",
    "        we can set {q2_A, q3_A, q4_A} as the val and {q2_B, q3_B, q4_B}\n",
    "        therefore, there are 9 possible choices for test and val \n",
    "        per nc_score(x|y) for a participant\n",
    "    Dimension 4: num_models\n",
    "    '''\n",
    "\n",
    "    cscores = np.zeros((len(pnames), 4, noe**2))\n",
    "    cscores_across_models = np.zeros((len(pnames), 4, noe**2, 10))\n",
    "    counter = 0\n",
    "    for p in range(len(pnames)):\n",
    "        for q in range(len(quarters)):\n",
    "            for i in range(noe):\n",
    "                for j in range(noe):\n",
    "                    if same_M and i==j:\n",
    "                        # in this case, the two epochs are marked using the same MM and are overlapping\n",
    "                        # this condition was not included in NC score generation \n",
    "                        cscores[p, q, counter] = np.nan  \n",
    "                    else:\n",
    "                        cscores_across_models[p, q, counter] = s2[p, q, i, :]/s1[p, q, j, :]\n",
    "                        cscores[p, q, counter] = np.mean(s2[p, q, i, :]/s1[p, q, j, :])\n",
    "                    counter+=1\n",
    "            counter = 0\n",
    "                \n",
    "    return cscores, cscores_across_models"
   ]
  },
  {
   "cell_type": "code",
   "execution_count": 5,
   "metadata": {
    "collapsed": true
   },
   "outputs": [],
   "source": [
    "# S1 and S2 matched marking methodology\n",
    "cscores_aa, cscores_aa_am = compute_scores(a_arr_total[0], a_arr_total[0], same_M=True)\n",
    "cscores_bb, cscores_bb_am = compute_scores(b_arr_total[1], b_arr_total[1], same_M=True)\n",
    "cscores_cc, cscores_cc_am = compute_scores(c_arr_total[2], c_arr_total[2], same_M=True)\n",
    "\n",
    "cscores_ba, cscores_ba_am = compute_scores(a_arr_total[0], b_arr_total[0])\n",
    "cscores_ca, cscores_ca_am = compute_scores(a_arr_total[0], c_arr_total[0]) # network trained on A and tested on A - network trained on A and tested on C\n",
    "cscores_ab, cscores_ab_am = compute_scores(b_arr_total[1], a_arr_total[1])\n",
    "cscores_cb, cscores_cb_am = compute_scores(b_arr_total[1], c_arr_total[1])\n",
    "cscores_ac, cscores_ac_am = compute_scores(c_arr_total[2], a_arr_total[2])\n",
    "cscores_bc, cscores_bc_am = compute_scores(c_arr_total[2], b_arr_total[2])"
   ]
  },
  {
   "cell_type": "code",
   "execution_count": 6,
   "metadata": {},
   "outputs": [
    {
     "name": "stdout",
     "output_type": "stream",
     "text": [
      "aa:  1.0000949052287234\n",
      "bb:  1.0001705652529693\n",
      "cc:  1.000234415122108\n",
      "ba:  0.923007019716105\n",
      "ca:  0.7749468387822781\n",
      "ab:  0.9029268609722317\n",
      "cb:  0.9007095101179112\n",
      "ac:  0.8906630098604976\n",
      "bc:  1.0305825950366905\n"
     ]
    }
   ],
   "source": [
    "print('aa: ', np.nanmean(cscores_aa))\n",
    "print('bb: ', np.nanmean(cscores_bb))\n",
    "print('cc: ', np.nanmean(cscores_cc))\n",
    "print('ba: ', np.nanmean(cscores_ba))\n",
    "print('ca: ', np.nanmean(cscores_ca))\n",
    "print('ab: ', np.nanmean(cscores_ab))\n",
    "print('cb: ', np.nanmean(cscores_cb))\n",
    "print('ac: ', np.nanmean(cscores_ac))\n",
    "print('bc: ', np.nanmean(cscores_bc))"
   ]
  },
  {
   "cell_type": "code",
   "execution_count": 7,
   "metadata": {},
   "outputs": [
    {
     "name": "stdout",
     "output_type": "stream",
     "text": [
      "aa:  0.0029264192891339763\n",
      "bb:  0.0024844491384618497\n",
      "cc:  0.00265135422897079\n",
      "ba:  0.0058791437449857995\n",
      "ca:  0.008703472285281665\n",
      "ab:  0.0050387468504841096\n",
      "cb:  0.0074781090277256145\n",
      "ac:  0.004678147238678688\n",
      "bc:  0.004637682292478644\n"
     ]
    }
   ],
   "source": [
    "print('aa: ', np.std(cscores_aa_am,axis=-1).mean())\n",
    "print('bb: ', np.std(cscores_bb_am,axis=-1).mean())\n",
    "print('cc: ', np.std(cscores_cc_am,axis=-1).mean())\n",
    "print('ba: ', np.std(cscores_ba_am,axis=-1).mean())\n",
    "print('ca: ', np.std(cscores_ca_am,axis=-1).mean())\n",
    "print('ab: ', np.std(cscores_ab_am,axis=-1).mean())\n",
    "print('cb: ', np.std(cscores_cb_am,axis=-1).mean())\n",
    "print('ac: ', np.std(cscores_ac_am,axis=-1).mean())\n",
    "print('bc: ', np.std(cscores_bc_am,axis=-1).mean())"
   ]
  },
  {
   "cell_type": "code",
   "execution_count": 8,
   "metadata": {
    "collapsed": true
   },
   "outputs": [],
   "source": [
    "cscores_same = np.asarray([cscores_aa, cscores_bb, cscores_cc])\n",
    "cscores_mean_same = np.nanmean(cscores_same, axis=(2,3))\n",
    "cscores_std_same = np.nanstd(cscores_same, axis=(2,3))"
   ]
  },
  {
   "cell_type": "code",
   "execution_count": 34,
   "metadata": {},
   "outputs": [
    {
     "name": "stdout",
     "output_type": "stream",
     "text": [
      "[[1.0000202  1.00005368 1.00013801 1.00016773]\n",
      " [1.00003099 1.00002992 1.00015487 1.00046648]\n",
      " [1.00003156 1.00001439 1.00017152 1.00072019]]\n"
     ]
    }
   ],
   "source": [
    "print(cscores_mean_same)"
   ]
  },
  {
   "cell_type": "code",
   "execution_count": 14,
   "metadata": {},
   "outputs": [
    {
     "name": "stdout",
     "output_type": "stream",
     "text": [
      "[1.00009491 1.00017057 1.00023442]\n"
     ]
    }
   ],
   "source": [
    "print(cscores_mean_same.mean(axis=-1))"
   ]
  },
  {
   "cell_type": "code",
   "execution_count": 8,
   "metadata": {},
   "outputs": [
    {
     "data": {
      "image/png": "[encoded data removed]",
      "text/plain": [
       "<Figure size 216x216 with 1 Axes>"
      ]
     },
     "metadata": {
      "needs_background": "light"
     },
     "output_type": "display_data"
    }
   ],
   "source": [
    "fig, ax = plt.subplots(1,1,figsize=(3,3))\n",
    "x=np.asarray([0,1.5,3])\n",
    "f= [1.2, .9, .6, .3]\n",
    "green = np.asarray([.4, .8, .7])\n",
    "sns.despine()\n",
    "ax.set_ylabel(\"Network\", fontsize=14)\n",
    "for i in range(4):\n",
    "    ax.bar(x+(i*.25), cscores_mean_same[:, i], yerr=cscores_std_same[:,i], width=.25, color=f[i]*green,\n",
    "          error_kw=dict(ecolor='gray', lw=2, capsize=0, capthick=1))\n",
    "ax.set_xticks([.4, 1.9, 3.4])\n",
    "ax.set_xticklabels(['(A,A)', '(B,B)', '(C,C)'])\n",
    "ax.set_yticks([0,1])\n",
    "ax.set_xlabel(\"Detection process pair\", fontsize=14)\n",
    "plt.savefig('Consistency_Figures_png/fig_2b', dpi=400, bbox_inches='tight')\n",
    "plt.savefig('Consistency_Figures_pdf/fig_2b.pdf', dpi=400, bbox_inches='tight', format='pdf')"
   ]
  },
  {
   "cell_type": "code",
   "execution_count": 9,
   "metadata": {
    "collapsed": true
   },
   "outputs": [],
   "source": [
    "np.savetxt('data_for_figures/fig_2b_mean.csv', cscores_mean_same, delimiter='.csv')\n",
    "np.savetxt('data_for_figures/fig_2b_std.csv', cscores_std_same, delimiter='.csv')"
   ]
  },
  {
   "cell_type": "code",
   "execution_count": 9,
   "metadata": {
    "collapsed": true
   },
   "outputs": [],
   "source": [
    "cscores_total = np.asarray([cscores_ab, cscores_ba, cscores_ac, cscores_ca, cscores_bc, cscores_cb])\n",
    "indices = ['(B,A)', '(A,B)', '(C,A)', '(A,C)', '(C,B)', '(B,C)']\n",
    "cscores_mean = np.mean(cscores_total, axis=(2,3))\n",
    "\n",
    "gc_509 = pd.DataFrame(index=indices, data=np.load('gc_scores_organized/gc_509.npy').T)\n",
    "cscores_509 = pd.DataFrame(index=indices, data=np.reshape(cscores_total[:, 0, :, :],(6,4*9)))\n",
    "np.savetxt('data_for_figures/fig_2c_patient_1_nc.csv', cscores_509, delimiter=',')\n",
    "np.savetxt('data_for_figures/fig_2c_patient_1_gtc.csv', gc_509, delimiter=',')\n",
    "\n",
    "gc_493 = pd.DataFrame(index=indices, data=np.load('gc_scores_organized/gc_493.npy').T)\n",
    "cscores_493 = pd.DataFrame(index=indices, data=np.reshape(cscores_total[:, 1, :, :],(6,4*9)))\n",
    "np.savetxt('data_for_figures/fig_2c_patient_2_nc.csv', cscores_493, delimiter=',')\n",
    "np.savetxt('data_for_figures/fig_2c_patient_2_gtc.csv', gc_493, delimiter=',')\n",
    "\n",
    "gc_489 = pd.DataFrame(index=indices, data=np.load('gc_scores_organized/gc_489.npy').T)\n",
    "cscores_489 = pd.DataFrame(index=indices, data=np.reshape(cscores_total[:, 2, :, :],(6,4*9)))\n",
    "np.savetxt('data_for_figures/fig_2c_patient_3_nc.csv', cscores_489, delimiter=',')\n",
    "np.savetxt('data_for_figures/fig_2c_patient_3_gtc.csv', gc_489, delimiter=',')\n",
    "\n",
    "gc_487 = pd.DataFrame(index=indices, data=np.load('gc_scores_organized/gc_487.npy').T)\n",
    "cscores_487= pd.DataFrame(index=indices, data=np.reshape(cscores_total[:, 3, :, :],(6,4*9)))\n",
    "np.savetxt('data_for_figures/fig_2c_patient_4_nc.csv', cscores_487, delimiter=',')\n",
    "np.savetxt('data_for_figures/fig_2c_patient_4_gtc.csv', gc_487, delimiter=',')"
   ]
  },
  {
   "cell_type": "code",
   "execution_count": 9,
   "metadata": {},
   "outputs": [
    {
     "data": {
      "image/png": "[encoded data removed]",
      "text/plain": [
       "<Figure size 360x360 with 1 Axes>"
      ]
     },
     "metadata": {
      "needs_background": "light"
     },
     "output_type": "display_data"
    }
   ],
   "source": [
    "# statistical test for Sa and Sb differences\n",
    "nc_scores = [cscores_509,cscores_493,cscores_489,cscores_487]\n",
    "gtc_scores = [gc_509,gc_493,gc_489,gc_487]\n",
    "nc_pearson = np.zeros((4,6))\n",
    "gtc_pearson = np.zeros((4,6))\n",
    "f= [1.2, .9, .6, .3]\n",
    "fig, ax = plt.subplots(1,1,figsize=(5,5))\n",
    "sns.set_theme()\n",
    "sns.set_style('white')\n",
    "sns.despine()\n",
    "for i, (n,g) in enumerate(zip(nc_scores, gtc_scores)):\n",
    "    ax.set_xlabel(\"Ground-truth\", fontsize=16)\n",
    "    ax.set_ylabel(\"Network\", fontsize=16)\n",
    "    ax.set_xticks([.5, 1])\n",
    "    ax.set_yticks([.5, 1])\n",
    "    ax.set_ylim(.45, 1.1)\n",
    "    ax.set_xlim(.45, 1.1)\n",
    "    ax.scatter(g.T.mean(), n.T.mean(), color=(.4*f[i],.8*f[i],.7*f[i]), label='Patient ' + str(i+1), s=50)\n",
    "    nc_pearson[i, :] = np.asarray(n.T.mean())\n",
    "    gtc_pearson[i, :] = np.asarray(g.T.mean())\n",
    "fig.legend(bbox_to_anchor=(-.6, -.15,1,1))\n",
    "plt.savefig('Consistency_Figures_png/within_corr', dpi=400, bbox_inches='tight')\n",
    "plt.savefig('Consistency_Figures_pdf/within_corr.pdf', dpi=400, bbox_inches='tight', format='pdf')"
   ]
  },
  {
   "cell_type": "code",
   "execution_count": 36,
   "metadata": {},
   "outputs": [
    {
     "data": {
      "text/plain": [
       "(0.94734239642683, 2.3290569671166134e-12)"
      ]
     },
     "execution_count": 36,
     "metadata": {},
     "output_type": "execute_result"
    }
   ],
   "source": [
    "pearsonr(nc_pearson.ravel(), gtc_pearson.ravel())"
   ]
  },
  {
   "cell_type": "code",
   "execution_count": 19,
   "metadata": {},
   "outputs": [
    {
     "name": "stdout",
     "output_type": "stream",
     "text": [
      "P number below thresh:  1.0\n",
      "P number below thresh:  1.0\n",
      "P number below thresh:  1.0\n",
      "P number below thresh:  0.5555555555555556\n",
      "(4, 144)\n"
     ]
    },
    {
     "data": {
      "image/png": "[encoded data removed]",
      "text/plain": [
       "<Figure size 108x108 with 1 Axes>"
      ]
     },
     "metadata": {
      "needs_background": "light"
     },
     "output_type": "display_data"
    },
    {
     "data": {
      "image/png": "[encoded data removed]",
      "text/plain": [
       "<Figure size 108x108 with 1 Axes>"
      ]
     },
     "metadata": {
      "needs_background": "light"
     },
     "output_type": "display_data"
    },
    {
     "data": {
      "image/png": "[encoded data removed]",
      "text/plain": [
       "<Figure size 108x108 with 1 Axes>"
      ]
     },
     "metadata": {
      "needs_background": "light"
     },
     "output_type": "display_data"
    },
    {
     "data": {
      "image/png": "[encoded data removed]",
      "text/plain": [
       "<Figure size 108x108 with 1 Axes>"
      ]
     },
     "metadata": {
      "needs_background": "light"
     },
     "output_type": "display_data"
    }
   ],
   "source": [
    "import matplotlib as mpl\n",
    "mpl.rcParams['axes.spines.left'] = False\n",
    "mpl.rcParams['axes.spines.right'] = False\n",
    "mpl.rcParams['axes.spines.top'] = False\n",
    "mpl.rcParams['axes.spines.bottom'] = False\n",
    "\n",
    "def one_to_one(g, c):\n",
    "    c_arr = []\n",
    "    p_arr = []\n",
    "    for i in range(36):\n",
    "        for j in range(4):\n",
    "            corr, p_val = stats.pearsonr(c[:, i], g[:, j])\n",
    "            c_arr.append(corr)\n",
    "            p_arr.append(p_val)\n",
    "    p_arr = np.asarray(p_arr)\n",
    "    print(\"P number below thresh: \", np.argwhere(p_arr<.05).shape[0]/len(p_arr))\n",
    "    return c_arr, p_arr\n",
    "\n",
    "corr509, p509 = one_to_one(np.asarray(gc_509), np.asarray(cscores_509))\n",
    "corr493, p493 = one_to_one(np.asarray(gc_493), np.asarray(cscores_493))\n",
    "corr489, p489 = one_to_one(np.asarray(gc_489), np.asarray(cscores_489))\n",
    "corr487, p487 = one_to_one(np.asarray(gc_487), np.asarray(cscores_487))\n",
    "\n",
    "corr_total = np.vstack((corr509, corr493, corr489, corr487))\n",
    "p_total = np.vstack((p509, p493, p489, p487))\n",
    "print(p_total.shape)\n",
    "np.savetxt('data_for_figures/fig_2d_pear_corr.csv', corr_total, delimiter=',')\n",
    "np.savetxt('data_for_figures/fig_2d_pval.csv', p_total, delimiter=',')\n",
    "\n",
    "\n",
    "plt.figure(figsize=(1.5,1.5))\n",
    "plt.hist(corr509, color=(.4,.6,.55), alpha=.7, bins=np.arange(0,1.05,.05))\n",
    "plt.xlim(0,1.01)\n",
    "plt.ylim(0,50)\n",
    "plt.yticks([])\n",
    "plt.xticks([0,1.0], color='black', fontsize=18)\n",
    "plt.title(r'$\\mathcal{p}$', color=\"black\", fontsize=20)\n",
    "plt.savefig(\"Consistency_Figures/pearson_509\", bbox_inches='tight', dpi=400)\n",
    "plt.savefig(\"Consistency_Figures_pdf/pearson_509.pdf\", bbox_inches='tight', dpi=400, format='pdf')\n",
    "plt.show()\n",
    "plt.figure(figsize=(1.5,1.5))\n",
    "plt.hist(corr493, color=(.4,.6,.55), alpha=.7, bins=np.arange(0,1.05,.05))\n",
    "plt.ylim(0,50)\n",
    "plt.xlim(0,1.01)\n",
    "plt.yticks([])\n",
    "plt.xticks([0,1.0], color='black', fontsize=18)\n",
    "plt.title(r'$\\mathcal{p}$', color=\"black\", fontsize=20)\n",
    "plt.savefig(\"Consistency_Figures/pearson_493\", bbox_inches='tight', dpi=400)\n",
    "plt.savefig(\"Consistency_Figures_pdf/pearson_493.pdf\", bbox_inches='tight', dpi=400, format='pdf')\n",
    "plt.show()\n",
    "plt.figure(figsize=(1.5,1.5))\n",
    "plt.hist(corr489, color=(.4,.6,.55), alpha=.7, bins=np.arange(0,1.05,.05))\n",
    "plt.ylim(0,50)\n",
    "plt.xlim(0,1.01)\n",
    "plt.yticks([])\n",
    "plt.xticks([0,1.0], color='black', fontsize=18)\n",
    "plt.title(r'$\\mathcal{p}$', color=\"black\", fontsize=20)\n",
    "plt.savefig(\"Consistency_Figures/pearson_489\", bbox_inches='tight', dpi=400)\n",
    "plt.savefig(\"Consistency_Figures_pdf/pearson_489.pdf\", bbox_inches='tight', dpi=400, format='pdf')\n",
    "plt.show()\n",
    "plt.figure(figsize=(1.5,1.5))\n",
    "plt.hist(corr487, color=(.4,.6,.55), alpha=.7, bins=np.arange(0,1.05,.05))\n",
    "plt.ylim(0,50)\n",
    "plt.xlim(0,1.01)\n",
    "plt.yticks([])\n",
    "plt.xticks([0,1.0], color='black', fontsize=18)\n",
    "plt.title(r'$\\mathcal{p}$', color=\"black\", fontsize=20)\n",
    "plt.savefig(\"Consistency_Figures/pearson_487\", bbox_inches='tight', dpi=400)\n",
    "plt.savefig(\"Consistency_Figures_pdf/pearson_487.pdf\", bbox_inches='tight', dpi=400, format='pdf')\n",
    "plt.show()\n"
   ]
  },
  {
   "cell_type": "code",
   "execution_count": 38,
   "metadata": {},
   "outputs": [
    {
     "data": {
      "image/png": "[encoded data removed]",
      "text/plain": [
       "<Figure size 576x360 with 4 Axes>"
      ]
     },
     "metadata": {},
     "output_type": "display_data"
    }
   ],
   "source": [
    "fig, ax = plt.subplots(2,2,figsize=(8,5))\n",
    "sns.set_theme()\n",
    "sns.set_style('white')\n",
    "sns.despine()\n",
    "plt.subplots_adjust(hspace=.2, wspace=.1)\n",
    "    \n",
    "ax[0,0].set_xticks([])\n",
    "ax[0,1].set_xticks([])\n",
    "ax[0,1].set_yticks([])\n",
    "ax[1,1].set_yticks([])\n",
    "ax[0,0].set_ylim(0,1.2)\n",
    "ax[0,1].set_ylim(0,1.2)\n",
    "ax[1,0].set_ylim(0,1.2)\n",
    "ax[1,1].set_ylim(0,1.2)\n",
    "ax[0,0].set_yticks([0, 0.5, 1])\n",
    "ax[1,0].set_yticks([0, 0.5, 1])\n",
    "\n",
    "yind = np.arange(.4, 1.1, .2)\n",
    "\n",
    "fig.text(0.04, 0.5, 'Consistency score', va='center', rotation='vertical', fontsize=15)\n",
    "fig.text(0.5, 0.015, 'Detection process pair', ha='center', fontsize=15)\n",
    "sns.stripplot(data=cscores_509.T, size=5, color=(.4,.8,.7), ax=ax[0,0])\n",
    "sns.stripplot(data=gc_509.T, size=5, color=(.4,.4,.4), ax=ax[0,0])\n",
    "ax[0,0].set_title(\"Patient 1\", fontsize=14)\n",
    "ax[0,0].set_xticklabels([])\n",
    "\n",
    "\n",
    "sns.stripplot(data=cscores_493.T, size=5, color=(.4,.8,.7), ax=ax[0,1])\n",
    "sns.stripplot(data=gc_493.T, size=5, color=(.4,.4,.4), ax=ax[0,1])\n",
    "ax[0,1].set_title(\"Patient 2\", fontsize=14)\n",
    "for i in yind:\n",
    "    ax[0,1].axhline(i, color=(1,1,1))\n",
    "ax[0,1].set_xticklabels([])\n",
    "\n",
    "sns.stripplot(data=cscores_489.T, size=5, color=(.4,.8,.7), ax=ax[1,0],  zorder=1)\n",
    "sns.stripplot(data=gc_489.T, size=5, color=(.4,.4,.4), ax=ax[1,0],  zorder=1)\n",
    "ax[1,0].scatter([0], [10], s=20)\n",
    "ax[1,0].set_title(\"Patient 3\", fontsize=14)\n",
    "\n",
    "sns.stripplot(data=cscores_487.T, size=5, color=(.4,.8,.7), ax=ax[1,1])\n",
    "sns.stripplot(data=gc_487.T, size=5, color=(.4,.4,.4), ax=ax[1,1])\n",
    "ax[1,1].set_title(\"Patient 4\", fontsize=14)\n",
    "\n",
    "for i in yind:\n",
    "    ax[1,1].axhline(i, color=(1,1,1))\n",
    "    \n",
    "plt.savefig(\"Consistency_Figures/gc_network_comp\", dpi=400, bbox_inches='tight')\n",
    "plt.savefig(\"Consistency_Figures_pdf/gc_network_comp.pdf\", dpi=400, bbox_inches='tight')"
   ]
  },
  {
   "cell_type": "code",
   "execution_count": 10,
   "metadata": {},
   "outputs": [
    {
     "data": {
      "text/plain": [
       "'\\nfig, ax = plt.subplots(1,1,figsize=(4.5,2.5))\\nsns.set_theme()\\nsns.set_style(\\'white\\')\\nsns.despine()\\nax.bar([1,2,3,4], nc_std_mean, label=\\'Network\\', yerr=nc_std_std, color=(.4,.8, .7), width=.25)\\nax.bar(np.asarray([1,2,3,4])+.25, gtc_std_mean, yerr=gtc_std_std, label=\\'Ground-truth\\', color=(.4,.4,.4), width=.25)\\n\\n#ax.set_title(\"Variation in scores across epochs\", fontsize=13.5, pad=10, color=\\'black\\')\\nax.set_ylabel(\"Std. Dev.\", fontsize=13.5, color=\\'black\\')\\nax.set_xlabel(\"Patients\", fontsize=13.5, labelpad=3, color=\\'black\\')\\nax.set_xticks(np.asarray([1,2,3,4])+.125)\\nax.set_xticklabels(np.asarray([1,2,3,4]))\\nax.set_yticks(np.asarray([.04, .08]))\\n\\nplt.figlegend(bbox_to_anchor=(.71, 1.1), prop={\\'size\\': 11})\\n#plt.savefig(\"Consistency_Figures/NC_std\", dpi=400, bbox_inches=\\'tight\\')\\n#plt.savefig(\"Consistency_Figures_pdf/NC_std.pdf\", dpi=400, bbox_inches=\\'tight\\', format=\\'pdf\\')\\n'"
      ]
     },
     "execution_count": 10,
     "metadata": {},
     "output_type": "execute_result"
    },
    {
     "data": {
      "image/png": "[encoded data removed]",
      "text/plain": [
       "<Figure size 324x180 with 1 Axes>"
      ]
     },
     "metadata": {
      "needs_background": "light"
     },
     "output_type": "display_data"
    }
   ],
   "source": [
    "\n",
    "\n",
    "std_clusters_network = np.vstack((cscores_509.T.std(), cscores_493.T.std(), cscores_489.T.std(), cscores_487.T.std()))\n",
    "nc_std_mean = np.mean(std_clusters_network,axis=-1)\n",
    "nc_std_std = np.std(std_clusters_network,axis=-1)\n",
    "\n",
    "std_clusters_gtc = np.vstack((gc_509.T.std(), gc_493.T.std(), gc_489.T.std(), gc_487.T.std()))\n",
    "gtc_std_mean = np.mean(std_clusters_gtc,axis=-1)\n",
    "gtc_std_std = np.std(std_clusters_gtc,axis=-1)\n",
    "\n",
    "participant_id = np.repeat(np.asarray([1,2,3,4], dtype=int),6)\n",
    "network_excess = pd.DataFrame(np.vstack(((std_clusters_network - std_clusters_gtc).ravel(), participant_id)).T,\n",
    "                             columns=['NC std dev - GTC std dev', 'Participants'])\n",
    "\n",
    "fig, ax = plt.subplots(1,1,figsize=(4.5,2.5))\n",
    "sns.despine()\n",
    "sns.stripplot(x=network_excess['Participants'], y=network_excess['NC std dev - GTC std dev'], ax=ax, colors)\n",
    "plt.gca().xaxis.set_major_formatter(FuncFormatter(lambda x, _: int(x)+1))\n",
    "\n",
    "'''\n",
    "fig, ax = plt.subplots(1,1,figsize=(4.5,2.5))\n",
    "sns.set_theme()\n",
    "sns.set_style('white')\n",
    "sns.despine()\n",
    "ax.bar([1,2,3,4], nc_std_mean, label='Network', yerr=nc_std_std, color=(.4,.8, .7), width=.25)\n",
    "ax.bar(np.asarray([1,2,3,4])+.25, gtc_std_mean, yerr=gtc_std_std, label='Ground-truth', color=(.4,.4,.4), width=.25)\n",
    "\n",
    "#ax.set_title(\"Variation in scores across epochs\", fontsize=13.5, pad=10, color='black')\n",
    "ax.set_ylabel(\"Std. Dev.\", fontsize=13.5, color='black')\n",
    "ax.set_xlabel(\"Patients\", fontsize=13.5, labelpad=3, color='black')\n",
    "ax.set_xticks(np.asarray([1,2,3,4])+.125)\n",
    "ax.set_xticklabels(np.asarray([1,2,3,4]))\n",
    "ax.set_yticks(np.asarray([.04, .08]))\n",
    "\n",
    "plt.figlegend(bbox_to_anchor=(.71, 1.1), prop={'size': 11})\n",
    "#plt.savefig(\"Consistency_Figures/NC_std\", dpi=400, bbox_inches='tight')\n",
    "#plt.savefig(\"Consistency_Figures_pdf/NC_std.pdf\", dpi=400, bbox_inches='tight', format='pdf')\n",
    "'''"
   ]
  },
  {
   "cell_type": "code",
   "execution_count": 25,
   "metadata": {
    "collapsed": true
   },
   "outputs": [],
   "source": [
    "np.savetxt('data_for_figures/fig_2e_nc.csv', nc_std_mean, delimiter=',')\n",
    "np.savetxt('data_for_figures/fig_2e_gtc.csv', gtc_std_mean, delimiter=',')"
   ]
  },
  {
   "cell_type": "code",
   "execution_count": 34,
   "metadata": {
    "collapsed": true
   },
   "outputs": [
    {
     "data": {
      "text/plain": [
       "0       Sun\n",
       "1       Sun\n",
       "2       Sun\n",
       "3       Sun\n",
       "4       Sun\n",
       "       ... \n",
       "239     Sat\n",
       "240     Sat\n",
       "241     Sat\n",
       "242     Sat\n",
       "243    Thur\n",
       "Name: day, Length: 244, dtype: category\n",
       "Categories (4, object): [Thur, Fri, Sat, Sun]"
      ]
     },
     "execution_count": 34,
     "metadata": {},
     "output_type": "execute_result"
    }
   ],
   "source": [
    "tips = sns.load_dataset(\"tips\")\n",
    "tips['day']"
   ]
  },
  {
   "cell_type": "code",
   "execution_count": 66,
   "metadata": {},
   "outputs": [
    {
     "data": {
      "text/html": [
       "<div>\n",
       "<style scoped>\n",
       "    .dataframe tbody tr th:only-of-type {\n",
       "        vertical-align: middle;\n",
       "    }\n",
       "\n",
       "    .dataframe tbody tr th {\n",
       "        vertical-align: top;\n",
       "    }\n",
       "\n",
       "    .dataframe thead th {\n",
       "        text-align: right;\n",
       "    }\n",
       "</style>\n",
       "<table border=\"1\" class=\"dataframe\">\n",
       "  <thead>\n",
       "    <tr style=\"text-align: right;\">\n",
       "      <th></th>\n",
       "      <th>Data</th>\n",
       "      <th>Participants</th>\n",
       "    </tr>\n",
       "  </thead>\n",
       "  <tbody>\n",
       "    <tr>\n",
       "      <td>0</td>\n",
       "      <td>0.002981</td>\n",
       "      <td>1.0</td>\n",
       "    </tr>\n",
       "    <tr>\n",
       "      <td>1</td>\n",
       "      <td>0.007899</td>\n",
       "      <td>1.0</td>\n",
       "    </tr>\n",
       "    <tr>\n",
       "      <td>2</td>\n",
       "      <td>0.001472</td>\n",
       "      <td>1.0</td>\n",
       "    </tr>\n",
       "    <tr>\n",
       "      <td>3</td>\n",
       "      <td>0.003891</td>\n",
       "      <td>1.0</td>\n",
       "    </tr>\n",
       "    <tr>\n",
       "      <td>4</td>\n",
       "      <td>0.003898</td>\n",
       "      <td>1.0</td>\n",
       "    </tr>\n",
       "    <tr>\n",
       "      <td>5</td>\n",
       "      <td>0.000927</td>\n",
       "      <td>1.0</td>\n",
       "    </tr>\n",
       "    <tr>\n",
       "      <td>6</td>\n",
       "      <td>0.002511</td>\n",
       "      <td>2.0</td>\n",
       "    </tr>\n",
       "    <tr>\n",
       "      <td>7</td>\n",
       "      <td>0.003096</td>\n",
       "      <td>2.0</td>\n",
       "    </tr>\n",
       "    <tr>\n",
       "      <td>8</td>\n",
       "      <td>0.001584</td>\n",
       "      <td>2.0</td>\n",
       "    </tr>\n",
       "    <tr>\n",
       "      <td>9</td>\n",
       "      <td>0.004997</td>\n",
       "      <td>2.0</td>\n",
       "    </tr>\n",
       "    <tr>\n",
       "      <td>10</td>\n",
       "      <td>0.001810</td>\n",
       "      <td>2.0</td>\n",
       "    </tr>\n",
       "    <tr>\n",
       "      <td>11</td>\n",
       "      <td>0.006473</td>\n",
       "      <td>2.0</td>\n",
       "    </tr>\n",
       "    <tr>\n",
       "      <td>12</td>\n",
       "      <td>0.004870</td>\n",
       "      <td>3.0</td>\n",
       "    </tr>\n",
       "    <tr>\n",
       "      <td>13</td>\n",
       "      <td>0.002487</td>\n",
       "      <td>3.0</td>\n",
       "    </tr>\n",
       "    <tr>\n",
       "      <td>14</td>\n",
       "      <td>0.005527</td>\n",
       "      <td>3.0</td>\n",
       "    </tr>\n",
       "    <tr>\n",
       "      <td>15</td>\n",
       "      <td>0.001206</td>\n",
       "      <td>3.0</td>\n",
       "    </tr>\n",
       "    <tr>\n",
       "      <td>16</td>\n",
       "      <td>0.009275</td>\n",
       "      <td>3.0</td>\n",
       "    </tr>\n",
       "    <tr>\n",
       "      <td>17</td>\n",
       "      <td>0.003327</td>\n",
       "      <td>3.0</td>\n",
       "    </tr>\n",
       "    <tr>\n",
       "      <td>18</td>\n",
       "      <td>0.019700</td>\n",
       "      <td>4.0</td>\n",
       "    </tr>\n",
       "    <tr>\n",
       "      <td>19</td>\n",
       "      <td>0.011296</td>\n",
       "      <td>4.0</td>\n",
       "    </tr>\n",
       "    <tr>\n",
       "      <td>20</td>\n",
       "      <td>0.000115</td>\n",
       "      <td>4.0</td>\n",
       "    </tr>\n",
       "    <tr>\n",
       "      <td>21</td>\n",
       "      <td>0.024932</td>\n",
       "      <td>4.0</td>\n",
       "    </tr>\n",
       "    <tr>\n",
       "      <td>22</td>\n",
       "      <td>0.025936</td>\n",
       "      <td>4.0</td>\n",
       "    </tr>\n",
       "    <tr>\n",
       "      <td>23</td>\n",
       "      <td>0.072557</td>\n",
       "      <td>4.0</td>\n",
       "    </tr>\n",
       "  </tbody>\n",
       "</table>\n",
       "</div>"
      ],
      "text/plain": [
       "        Data  Participants\n",
       "0   0.002981           1.0\n",
       "1   0.007899           1.0\n",
       "2   0.001472           1.0\n",
       "3   0.003891           1.0\n",
       "4   0.003898           1.0\n",
       "5   0.000927           1.0\n",
       "6   0.002511           2.0\n",
       "7   0.003096           2.0\n",
       "8   0.001584           2.0\n",
       "9   0.004997           2.0\n",
       "10  0.001810           2.0\n",
       "11  0.006473           2.0\n",
       "12  0.004870           3.0\n",
       "13  0.002487           3.0\n",
       "14  0.005527           3.0\n",
       "15  0.001206           3.0\n",
       "16  0.009275           3.0\n",
       "17  0.003327           3.0\n",
       "18  0.019700           4.0\n",
       "19  0.011296           4.0\n",
       "20  0.000115           4.0\n",
       "21  0.024932           4.0\n",
       "22  0.025936           4.0\n",
       "23  0.072557           4.0"
      ]
     },
     "execution_count": 66,
     "metadata": {},
     "output_type": "execute_result"
    }
   ],
   "source": [
    "network_excess"
   ]
  },
  {
   "cell_type": "code",
   "execution_count": null,
   "metadata": {},
   "outputs": [],
   "source": []
  }
 ],
 "metadata": {
  "kernelspec": {
   "display_name": "kerasEB",
   "language": "python",
   "name": "keraseb"
  },
  "language_info": {
   "codemirror_mode": {
    "name": "ipython",
    "version": 3
   },
   "file_extension": ".py",
   "mimetype": "text/x-python",
   "name": "python",
   "nbconvert_exporter": "python",
   "pygments_lexer": "ipython3",
   "version": "3.6.9"
  }
 },
 "nbformat": 4,
 "nbformat_minor": 4
}
