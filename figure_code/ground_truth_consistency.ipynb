{
 "cells": [
  {
   "cell_type": "code",
   "execution_count": 1,
   "metadata": {
    "collapsed": true,
    "tags": []
   },
   "outputs": [],
   "source": [
    "import numpy as np\n",
    "import pandas as pd\n",
    "from matplotlib import pyplot as plt\n",
    "import seaborn as sns"
   ]
  },
  {
   "cell_type": "code",
   "execution_count": 8,
   "metadata": {},
   "outputs": [
    {
     "name": "stdout",
     "output_type": "stream",
     "text": [
      "(43, 7)\n"
     ]
    }
   ],
   "source": [
    "consistency = pd.read_csv('consistency.csv')\n",
    "print(consistency.values.shape)"
   ]
  },
  {
   "cell_type": "code",
   "execution_count": 9,
   "metadata": {
    "collapsed": true
   },
   "outputs": [],
   "source": [
    "E1 = np.squeeze(consistency.values[np.argwhere(consistency.values[:, 0]=='E1')])\n",
    "E2 =  np.squeeze(consistency.values[np.argwhere(consistency.values[:, 0]=='E2')])\n",
    "E3 = consistency.values[np.argwhere(consistency.values[:, 0]=='E3')]\n",
    "E4 = consistency.values[np.argwhere(consistency.values[:, 0]=='E4')]\n",
    "\n",
    "gc_509 = np.delete(np.vstack((E1[0], E2[0], E3[0], E4[0])),0,1).astype(np.float32)\n",
    "gc_493 = np.delete(np.vstack((E1[1], E2[1], E3[1], E4[1])),0,1).astype(np.float32)\n",
    "gc_489 = np.delete(np.vstack((E1[2], E2[2], E3[2], E4[2])),0,1).astype(np.float32)\n",
    "gc_487 = np.delete(np.vstack((E1[4], E2[4], E3[4], E4[4])),0,1).astype(np.float32) # inclusive, so skipped 487\n",
    "\n",
    "np.save('gc_scores_organized/gc_509', gc_509)\n",
    "np.save('gc_scores_organized/gc_493', gc_493)\n",
    "np.save('gc_scores_organized/gc_489', gc_489)\n",
    "np.save('gc_scores_organized/gc_487', gc_487)"
   ]
  },
  {
   "cell_type": "code",
   "execution_count": 10,
   "metadata": {
    "collapsed": true
   },
   "outputs": [],
   "source": [
    "mean_full= np.zeros((5,6))\n",
    "std_full = np.zeros((5,6))\n",
    "total_gc = np.zeros((4,6,4)) # patients x pairwise detector combos x epochs \n",
    "i = 0\n",
    "j = 0\n",
    "for row in consistency.values:\n",
    "    if row[0]=='Mean ':\n",
    "        mean_full[i] = np.asarray(row[1:], dtype=np.float64)\n",
    "        i += 1\n",
    "    if row[0]=='Std Dev ' or row[0] == 'Std Dev':\n",
    "        std_full[j] = np.asarray(row[1:], dtype=np.float64)\n",
    "        j += 1\n",
    "        \n",
    "        "
   ]
  },
  {
   "cell_type": "code",
   "execution_count": 11,
   "metadata": {},
   "outputs": [
    {
     "name": "stdout",
     "output_type": "stream",
     "text": [
      "(4, 6)\n",
      "(4, 6)\n"
     ]
    }
   ],
   "source": [
    "# remove patient 487, non inclusive, as this data is not used in the paper\n",
    "mean = np.delete(mean_full, 3, axis=0)\n",
    "std = np.delete(std_full, 3, axis=0)\n",
    "print(mean.shape)\n",
    "print(std.shape)"
   ]
  },
  {
   "cell_type": "code",
   "execution_count": 12,
   "metadata": {},
   "outputs": [
    {
     "data": {
      "image/png": "[encoded data removed]",
      "text/plain": [
       "<Figure size 468x288 with 1 Axes>"
      ]
     },
     "metadata": {},
     "output_type": "display_data"
    }
   ],
   "source": [
    "fig, ax = plt.subplots()\n",
    "sns.despine()\n",
    "sns.set_theme()\n",
    "sns.set_style('white')\n",
    "sns.despine(bottom=True, left=True)\n",
    "fig.set_size_inches(6.5, 4)\n",
    "green = np.asarray([.4, .8, .7])\n",
    "f = [1.2, .9, .6, .3]\n",
    "ax.bar(np.arange(0,6,1), mean[0, :], yerr=std[0,:], width=.15, label='Participant 1', color=f[0]*green, \n",
    "      error_kw=dict(ecolor='gray', lw=2, capsize=0, capthick=1))\n",
    "ax.bar(np.arange(0,6,1)+.15, mean[1, :], yerr=std[1,:],  width=.15, label='Participant 2', \n",
    "       error_kw=dict(ecolor='gray', lw=2, capsize=0, capthick=1), color=f[1]*green)\n",
    "ax.bar(np.arange(0,6,1)+.3, mean[2, :], yerr=std[2,:],  width=.15, label='Participant 3', \n",
    "       error_kw=dict(ecolor='gray', lw=2, capsize=0, capthick=1), color=f[2]*green)\n",
    "ax.bar(np.arange(0,6,1)+.45, mean[3, :], yerr=std[3,:], width=.15, label='Participant 4', \n",
    "       error_kw=dict(ecolor='gray', lw=2, capsize=0, capthick=1, align='center'), color=f[3]*green)\n",
    "ax.set_xticks(np.arange(0,6,1)+.225)\n",
    "ax.set_xticklabels(['(A|B)', '(B|A)', '(A|C)', '(C|A)', '(B|C)', '(C|B)'])\n",
    "ax.set_yticks(np.arange(0,1.01,.5))\n",
    "ax.set_ylim(0,1.1)\n",
    "plt.xticks(fontsize=10)\n",
    "plt.yticks(fontsize=10)\n",
    "ax.set_ylabel(\"GTC\", fontsize=14)\n",
    "ax.set_xlabel(\"MM Pair\", fontsize=14)\n",
    "#ax.set_title(\"Consistency across marking methodologies\", fontsize=15)\n",
    "plt.legend(bbox_to_anchor=(.82,.78), fontsize=8)\n",
    "plt.savefig('/home3/ebrahim/TNEC_paper_code/figures/ground_truth_consistency.pdf', dpi=400, bbox_inches='tight', format='pdf')\n",
    "#plt.savefig('Consistency_Figures_png/ground_truth_consistency', dpi=400, bbox_inches='tight')\n"
   ]
  },
  {
   "cell_type": "code",
   "execution_count": 13,
   "metadata": {
    "collapsed": true
   },
   "outputs": [
    {
     "data": {
      "image/png": "[encoded data removed]",
      "text/plain": [
       "<Figure size 468x288 with 1 Axes>"
      ]
     },
     "metadata": {},
     "output_type": "display_data"
    }
   ],
   "source": [
    "p_arr = ['509', '493', '489', '487']\n",
    "gtc_arr_global = np.zeros((4,6))\n",
    "for i, p in enumerate(p_arr):\n",
    "    gtc_arr_global[i] = np.load('ground_truth_global/' + p + '.npy')\n",
    "\n",
    "fig, ax = plt.subplots()\n",
    "sns.despine()\n",
    "sns.set_theme()\n",
    "sns.set_style('white')\n",
    "sns.despine(bottom=True, left=True)\n",
    "fig.set_size_inches(6.5, 4)\n",
    "green = np.asarray([.4, .8, .7])\n",
    "f = [1.2, .9, .6, .3]\n",
    "ax.bar(np.arange(0,6,1), gtc_arr_global[0, :], width=.15, color=f[0]*green, \n",
    "      error_kw=dict(ecolor='gray', lw=2, capsize=0, capthick=1))\n",
    "ax.bar(np.arange(0,6,1)+.15, gtc_arr_global[1, :],  width=.15,\n",
    "       error_kw=dict(ecolor='gray', lw=2, capsize=0, capthick=1), color=f[1]*green)\n",
    "ax.bar(np.arange(0,6,1)+.3, gtc_arr_global[2, :],  width=.15,\n",
    "       error_kw=dict(ecolor='gray', lw=2, capsize=0, capthick=1), color=f[2]*green)\n",
    "ax.bar(np.arange(0,6,1)+.45, gtc_arr_global[3, :], width=.15, \n",
    "       error_kw=dict(ecolor='gray', lw=2, capsize=0, capthick=1, align='center'), color=f[3]*green)\n",
    "ax.set_xticks(np.arange(0,6,1)+.225)\n",
    "ax.set_xticklabels(['(A|B)', '(B|A)', '(A|C)', '(C|A)', '(B|C)', '(C|B)'])\n",
    "ax.set_yticks([])\n",
    "ax.set_ylim(0,1.1)\n",
    "plt.xticks(fontsize=10)\n",
    "plt.yticks(fontsize=10)\n",
    "ax.set_xlabel(\"MM Pair\", fontsize=14)\n",
    "plt.savefig('/home3/ebrahim/TNEC_paper_code/figures/ground_truth_consistency_global.pdf', dpi=400, bbox_inches='tight', format='pdf')\n",
    "#plt.savefig('Consistency_Figures_png/ground_truth_consistency', dpi=400, bbox_inches='tight')\n"
   ]
  },
  {
   "cell_type": "code",
   "execution_count": null,
   "metadata": {},
   "outputs": [],
   "source": []
  }
 ],
 "metadata": {
  "kernelspec": {
   "display_name": "kerasEB",
   "language": "python",
   "name": "keraseb"
  },
  "language_info": {
   "codemirror_mode": {
    "name": "ipython",
    "version": 3
   },
   "file_extension": ".py",
   "mimetype": "text/x-python",
   "name": "python",
   "nbconvert_exporter": "python",
   "pygments_lexer": "ipython3",
   "version": "3.6.9"
  }
 },
 "nbformat": 4,
 "nbformat_minor": 4
}
